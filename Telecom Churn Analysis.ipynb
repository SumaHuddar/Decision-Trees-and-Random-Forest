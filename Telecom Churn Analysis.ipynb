{
 "cells": [
  {
   "cell_type": "markdown",
   "metadata": {},
   "source": [
    "# Predict behavior to retain customers."
   ]
  },
  {
   "cell_type": "code",
   "execution_count": 1,
   "metadata": {},
   "outputs": [],
   "source": [
    "import pandas as pd\n",
    "import numpy as np"
   ]
  },
  {
   "cell_type": "code",
   "execution_count": 2,
   "metadata": {},
   "outputs": [],
   "source": [
    "# Import/Load the dataset\n",
    "churn_data=pd.read_csv('C:/Users/91988/Documents/Python Scripts/Datasets/churn_analysis.csv')"
   ]
  },
  {
   "cell_type": "code",
   "execution_count": 3,
   "metadata": {},
   "outputs": [
    {
     "data": {
      "text/html": [
       "<div>\n",
       "<style scoped>\n",
       "    .dataframe tbody tr th:only-of-type {\n",
       "        vertical-align: middle;\n",
       "    }\n",
       "\n",
       "    .dataframe tbody tr th {\n",
       "        vertical-align: top;\n",
       "    }\n",
       "\n",
       "    .dataframe thead th {\n",
       "        text-align: right;\n",
       "    }\n",
       "</style>\n",
       "<table border=\"1\" class=\"dataframe\">\n",
       "  <thead>\n",
       "    <tr style=\"text-align: right;\">\n",
       "      <th></th>\n",
       "      <th>state</th>\n",
       "      <th>account length</th>\n",
       "      <th>area code</th>\n",
       "      <th>phone number</th>\n",
       "      <th>international plan</th>\n",
       "      <th>voice mail plan</th>\n",
       "      <th>number vmail messages</th>\n",
       "      <th>total day minutes</th>\n",
       "      <th>total day calls</th>\n",
       "      <th>total day charge</th>\n",
       "      <th>...</th>\n",
       "      <th>total eve calls</th>\n",
       "      <th>total eve charge</th>\n",
       "      <th>total night minutes</th>\n",
       "      <th>total night calls</th>\n",
       "      <th>total night charge</th>\n",
       "      <th>total intl minutes</th>\n",
       "      <th>total intl calls</th>\n",
       "      <th>total intl charge</th>\n",
       "      <th>customer service calls</th>\n",
       "      <th>churn</th>\n",
       "    </tr>\n",
       "  </thead>\n",
       "  <tbody>\n",
       "    <tr>\n",
       "      <td>0</td>\n",
       "      <td>KS</td>\n",
       "      <td>128.0</td>\n",
       "      <td>415.0</td>\n",
       "      <td>382-4657</td>\n",
       "      <td>no</td>\n",
       "      <td>yes</td>\n",
       "      <td>25</td>\n",
       "      <td>265.1</td>\n",
       "      <td>110.0</td>\n",
       "      <td>45.07</td>\n",
       "      <td>...</td>\n",
       "      <td>99.0</td>\n",
       "      <td>16.78</td>\n",
       "      <td>244.7</td>\n",
       "      <td>91</td>\n",
       "      <td>11.01</td>\n",
       "      <td>10.0</td>\n",
       "      <td>3</td>\n",
       "      <td>2.70</td>\n",
       "      <td>1</td>\n",
       "      <td>False</td>\n",
       "    </tr>\n",
       "    <tr>\n",
       "      <td>1</td>\n",
       "      <td>OH</td>\n",
       "      <td>107.0</td>\n",
       "      <td>415.0</td>\n",
       "      <td>371-7191</td>\n",
       "      <td>no</td>\n",
       "      <td>yes</td>\n",
       "      <td>26</td>\n",
       "      <td>161.6</td>\n",
       "      <td>123.0</td>\n",
       "      <td>27.47</td>\n",
       "      <td>...</td>\n",
       "      <td>103.0</td>\n",
       "      <td>16.62</td>\n",
       "      <td>254.4</td>\n",
       "      <td>103</td>\n",
       "      <td>11.45</td>\n",
       "      <td>13.7</td>\n",
       "      <td>3</td>\n",
       "      <td>3.70</td>\n",
       "      <td>1</td>\n",
       "      <td>False</td>\n",
       "    </tr>\n",
       "    <tr>\n",
       "      <td>2</td>\n",
       "      <td>NJ</td>\n",
       "      <td>137.0</td>\n",
       "      <td>415.0</td>\n",
       "      <td>358-1921</td>\n",
       "      <td>no</td>\n",
       "      <td>no</td>\n",
       "      <td>0</td>\n",
       "      <td>243.4</td>\n",
       "      <td>114.0</td>\n",
       "      <td>41.38</td>\n",
       "      <td>...</td>\n",
       "      <td>110.0</td>\n",
       "      <td>10.30</td>\n",
       "      <td>162.6</td>\n",
       "      <td>104</td>\n",
       "      <td>7.32</td>\n",
       "      <td>12.2</td>\n",
       "      <td>5</td>\n",
       "      <td>3.29</td>\n",
       "      <td>0</td>\n",
       "      <td>False</td>\n",
       "    </tr>\n",
       "    <tr>\n",
       "      <td>3</td>\n",
       "      <td>OH</td>\n",
       "      <td>84.0</td>\n",
       "      <td>408.0</td>\n",
       "      <td>375-9999</td>\n",
       "      <td>yes</td>\n",
       "      <td>no</td>\n",
       "      <td>0</td>\n",
       "      <td>299.4</td>\n",
       "      <td>71.0</td>\n",
       "      <td>50.90</td>\n",
       "      <td>...</td>\n",
       "      <td>88.0</td>\n",
       "      <td>5.26</td>\n",
       "      <td>196.9</td>\n",
       "      <td>89</td>\n",
       "      <td>8.86</td>\n",
       "      <td>6.6</td>\n",
       "      <td>7</td>\n",
       "      <td>1.78</td>\n",
       "      <td>2</td>\n",
       "      <td>False</td>\n",
       "    </tr>\n",
       "    <tr>\n",
       "      <td>4</td>\n",
       "      <td>OK</td>\n",
       "      <td>75.0</td>\n",
       "      <td>415.0</td>\n",
       "      <td>330-6626</td>\n",
       "      <td>yes</td>\n",
       "      <td>no</td>\n",
       "      <td>0</td>\n",
       "      <td>166.7</td>\n",
       "      <td>113.0</td>\n",
       "      <td>28.34</td>\n",
       "      <td>...</td>\n",
       "      <td>122.0</td>\n",
       "      <td>12.61</td>\n",
       "      <td>186.9</td>\n",
       "      <td>121</td>\n",
       "      <td>8.41</td>\n",
       "      <td>10.1</td>\n",
       "      <td>3</td>\n",
       "      <td>2.73</td>\n",
       "      <td>3</td>\n",
       "      <td>False</td>\n",
       "    </tr>\n",
       "  </tbody>\n",
       "</table>\n",
       "<p>5 rows × 21 columns</p>\n",
       "</div>"
      ],
      "text/plain": [
       "  state  account length  area code phone number international plan  \\\n",
       "0    KS           128.0      415.0     382-4657                 no   \n",
       "1    OH           107.0      415.0     371-7191                 no   \n",
       "2    NJ           137.0      415.0     358-1921                 no   \n",
       "3    OH            84.0      408.0     375-9999                yes   \n",
       "4    OK            75.0      415.0     330-6626                yes   \n",
       "\n",
       "  voice mail plan  number vmail messages  total day minutes  total day calls  \\\n",
       "0             yes                     25              265.1            110.0   \n",
       "1             yes                     26              161.6            123.0   \n",
       "2              no                      0              243.4            114.0   \n",
       "3              no                      0              299.4             71.0   \n",
       "4              no                      0              166.7            113.0   \n",
       "\n",
       "   total day charge  ...  total eve calls  total eve charge  \\\n",
       "0             45.07  ...             99.0             16.78   \n",
       "1             27.47  ...            103.0             16.62   \n",
       "2             41.38  ...            110.0             10.30   \n",
       "3             50.90  ...             88.0              5.26   \n",
       "4             28.34  ...            122.0             12.61   \n",
       "\n",
       "   total night minutes  total night calls  total night charge  \\\n",
       "0                244.7                 91               11.01   \n",
       "1                254.4                103               11.45   \n",
       "2                162.6                104                7.32   \n",
       "3                196.9                 89                8.86   \n",
       "4                186.9                121                8.41   \n",
       "\n",
       "   total intl minutes  total intl calls  total intl charge  \\\n",
       "0                10.0                 3               2.70   \n",
       "1                13.7                 3               3.70   \n",
       "2                12.2                 5               3.29   \n",
       "3                 6.6                 7               1.78   \n",
       "4                10.1                 3               2.73   \n",
       "\n",
       "   customer service calls  churn  \n",
       "0                       1  False  \n",
       "1                       1  False  \n",
       "2                       0  False  \n",
       "3                       2  False  \n",
       "4                       3  False  \n",
       "\n",
       "[5 rows x 21 columns]"
      ]
     },
     "execution_count": 3,
     "metadata": {},
     "output_type": "execute_result"
    }
   ],
   "source": [
    "churn_data.head()"
   ]
  },
  {
   "cell_type": "code",
   "execution_count": 4,
   "metadata": {},
   "outputs": [
    {
     "data": {
      "text/plain": [
       "(3333, 21)"
      ]
     },
     "execution_count": 4,
     "metadata": {},
     "output_type": "execute_result"
    }
   ],
   "source": [
    "# Dimension of the datset\n",
    "churn_data.shape"
   ]
  },
  {
   "cell_type": "markdown",
   "metadata": {},
   "source": [
    "### Different Business problems\n",
    "\n",
    "* Question 1 : Which customer has highest probability to switch to another telecom(known as churn)\n",
    "* Question 2 : What could be the possible reasons why churn is hapening\n",
    "* Question 3: How good is the prediction is ? can we rely on this predictive analytics"
   ]
  },
  {
   "cell_type": "code",
   "execution_count": 5,
   "metadata": {},
   "outputs": [
    {
     "name": "stdout",
     "output_type": "stream",
     "text": [
      "<class 'pandas.core.frame.DataFrame'>\n",
      "RangeIndex: 3333 entries, 0 to 3332\n",
      "Data columns (total 21 columns):\n",
      "state                     3333 non-null object\n",
      "account length            3330 non-null float64\n",
      "area code                 3332 non-null float64\n",
      "phone number              3332 non-null object\n",
      "international plan        3332 non-null object\n",
      "voice mail plan           3332 non-null object\n",
      "number vmail messages     3333 non-null int64\n",
      "total day minutes         3330 non-null float64\n",
      "total day calls           3331 non-null float64\n",
      "total day charge          3328 non-null float64\n",
      "total eve minutes         3332 non-null float64\n",
      "total eve calls           3330 non-null float64\n",
      "total eve charge          3332 non-null float64\n",
      "total night minutes       3331 non-null float64\n",
      "total night calls         3333 non-null int64\n",
      "total night charge        3330 non-null float64\n",
      "total intl minutes        3332 non-null float64\n",
      "total intl calls          3333 non-null int64\n",
      "total intl charge         3332 non-null float64\n",
      "customer service calls    3333 non-null int64\n",
      "churn                     3333 non-null bool\n",
      "dtypes: bool(1), float64(12), int64(4), object(4)\n",
      "memory usage: 524.2+ KB\n"
     ]
    }
   ],
   "source": [
    "# More details about the data\n",
    "churn_data.info()"
   ]
  },
  {
   "cell_type": "code",
   "execution_count": 6,
   "metadata": {},
   "outputs": [],
   "source": [
    "# Create a copy of data\n",
    "churn_df=churn_data"
   ]
  },
  {
   "cell_type": "code",
   "execution_count": 7,
   "metadata": {},
   "outputs": [
    {
     "data": {
      "text/plain": [
       "Index(['state', 'account length', 'area code', 'phone number',\n",
       "       'international plan', 'voice mail plan', 'number vmail messages',\n",
       "       'total day minutes', 'total day calls', 'total day charge',\n",
       "       'total eve minutes', 'total eve calls', 'total eve charge',\n",
       "       'total night minutes', 'total night calls', 'total night charge',\n",
       "       'total intl minutes', 'total intl calls', 'total intl charge',\n",
       "       'customer service calls', 'churn'],\n",
       "      dtype='object')"
      ]
     },
     "execution_count": 7,
     "metadata": {},
     "output_type": "execute_result"
    }
   ],
   "source": [
    "churn_df.columns"
   ]
  },
  {
   "cell_type": "code",
   "execution_count": 8,
   "metadata": {},
   "outputs": [],
   "source": [
    "# Remove Unwanted columns\n",
    "churn_df=churn_df.drop(['phone number'], axis=1)"
   ]
  },
  {
   "cell_type": "code",
   "execution_count": 9,
   "metadata": {},
   "outputs": [
    {
     "data": {
      "text/plain": [
       "(3333, 20)"
      ]
     },
     "execution_count": 9,
     "metadata": {},
     "output_type": "execute_result"
    }
   ],
   "source": [
    "churn_df.shape"
   ]
  },
  {
   "cell_type": "code",
   "execution_count": 10,
   "metadata": {},
   "outputs": [
    {
     "data": {
      "text/plain": [
       "state                      object\n",
       "account length            float64\n",
       "area code                  object\n",
       "international plan         object\n",
       "voice mail plan            object\n",
       "number vmail messages       int64\n",
       "total day minutes         float64\n",
       "total day calls           float64\n",
       "total day charge          float64\n",
       "total eve minutes         float64\n",
       "total eve calls           float64\n",
       "total eve charge          float64\n",
       "total night minutes       float64\n",
       "total night calls           int64\n",
       "total night charge        float64\n",
       "total intl minutes        float64\n",
       "total intl calls            int64\n",
       "total intl charge         float64\n",
       "customer service calls      int64\n",
       "churn                      object\n",
       "dtype: object"
      ]
     },
     "execution_count": 10,
     "metadata": {},
     "output_type": "execute_result"
    }
   ],
   "source": [
    "# Convert area code and churn column into categorical\n",
    "#df.Weight = df.Weight.astype('int64')\n",
    "churn_df['area code']=churn_df['area code'].astype('object')\n",
    "churn_df['churn']=churn_df['churn'].astype('object')\n",
    "churn_df.dtypes"
   ]
  },
  {
   "cell_type": "code",
   "execution_count": 11,
   "metadata": {},
   "outputs": [
    {
     "data": {
      "text/plain": [
       "state                     0\n",
       "account length            3\n",
       "area code                 1\n",
       "international plan        1\n",
       "voice mail plan           1\n",
       "number vmail messages     0\n",
       "total day minutes         3\n",
       "total day calls           2\n",
       "total day charge          5\n",
       "total eve minutes         1\n",
       "total eve calls           3\n",
       "total eve charge          1\n",
       "total night minutes       2\n",
       "total night calls         0\n",
       "total night charge        3\n",
       "total intl minutes        1\n",
       "total intl calls          0\n",
       "total intl charge         1\n",
       "customer service calls    0\n",
       "churn                     0\n",
       "dtype: int64"
      ]
     },
     "execution_count": 11,
     "metadata": {},
     "output_type": "execute_result"
    }
   ],
   "source": [
    "# Check for missing values in training set\n",
    "churn_df.isnull().sum()"
   ]
  },
  {
   "cell_type": "code",
   "execution_count": 12,
   "metadata": {},
   "outputs": [
    {
     "data": {
      "text/plain": [
       "state                     0.000000\n",
       "account length            0.090009\n",
       "area code                 0.030003\n",
       "international plan        0.030003\n",
       "voice mail plan           0.030003\n",
       "number vmail messages     0.000000\n",
       "total day minutes         0.090009\n",
       "total day calls           0.060006\n",
       "total day charge          0.150015\n",
       "total eve minutes         0.030003\n",
       "total eve calls           0.090009\n",
       "total eve charge          0.030003\n",
       "total night minutes       0.060006\n",
       "total night calls         0.000000\n",
       "total night charge        0.090009\n",
       "total intl minutes        0.030003\n",
       "total intl calls          0.000000\n",
       "total intl charge         0.030003\n",
       "customer service calls    0.000000\n",
       "churn                     0.000000\n",
       "dtype: float64"
      ]
     },
     "execution_count": 12,
     "metadata": {},
     "output_type": "execute_result"
    }
   ],
   "source": [
    "# Check the missing value percentage\n",
    "churn_df.apply(lambda x: x.isnull().sum()/len(x)*100)"
   ]
  },
  {
   "cell_type": "code",
   "execution_count": 13,
   "metadata": {},
   "outputs": [],
   "source": [
    "# Drop all the missing values\n",
    "churn_df=churn_df.dropna()"
   ]
  },
  {
   "cell_type": "code",
   "execution_count": 14,
   "metadata": {},
   "outputs": [
    {
     "data": {
      "text/plain": [
       "state                     0\n",
       "account length            0\n",
       "area code                 0\n",
       "international plan        0\n",
       "voice mail plan           0\n",
       "number vmail messages     0\n",
       "total day minutes         0\n",
       "total day calls           0\n",
       "total day charge          0\n",
       "total eve minutes         0\n",
       "total eve calls           0\n",
       "total eve charge          0\n",
       "total night minutes       0\n",
       "total night calls         0\n",
       "total night charge        0\n",
       "total intl minutes        0\n",
       "total intl calls          0\n",
       "total intl charge         0\n",
       "customer service calls    0\n",
       "churn                     0\n",
       "dtype: int64"
      ]
     },
     "execution_count": 14,
     "metadata": {},
     "output_type": "execute_result"
    }
   ],
   "source": [
    "# Check for missing values in training set\n",
    "churn_df.isnull().sum()"
   ]
  },
  {
   "cell_type": "code",
   "execution_count": 15,
   "metadata": {},
   "outputs": [
    {
     "data": {
      "text/plain": [
       "(3308, 20)"
      ]
     },
     "execution_count": 15,
     "metadata": {},
     "output_type": "execute_result"
    }
   ],
   "source": [
    "# Dimension of data\n",
    "churn_df.shape"
   ]
  },
  {
   "cell_type": "code",
   "execution_count": 16,
   "metadata": {},
   "outputs": [
    {
     "data": {
      "text/html": [
       "<div>\n",
       "<style scoped>\n",
       "    .dataframe tbody tr th:only-of-type {\n",
       "        vertical-align: middle;\n",
       "    }\n",
       "\n",
       "    .dataframe tbody tr th {\n",
       "        vertical-align: top;\n",
       "    }\n",
       "\n",
       "    .dataframe thead th {\n",
       "        text-align: right;\n",
       "    }\n",
       "</style>\n",
       "<table border=\"1\" class=\"dataframe\">\n",
       "  <thead>\n",
       "    <tr style=\"text-align: right;\">\n",
       "      <th></th>\n",
       "      <th>state</th>\n",
       "      <th>account length</th>\n",
       "      <th>area code</th>\n",
       "      <th>international plan</th>\n",
       "      <th>voice mail plan</th>\n",
       "      <th>number vmail messages</th>\n",
       "      <th>total day minutes</th>\n",
       "      <th>total day calls</th>\n",
       "      <th>total day charge</th>\n",
       "      <th>total eve minutes</th>\n",
       "      <th>total eve calls</th>\n",
       "      <th>total eve charge</th>\n",
       "      <th>total night minutes</th>\n",
       "      <th>total night calls</th>\n",
       "      <th>total night charge</th>\n",
       "      <th>total intl minutes</th>\n",
       "      <th>total intl calls</th>\n",
       "      <th>total intl charge</th>\n",
       "      <th>customer service calls</th>\n",
       "      <th>churn</th>\n",
       "    </tr>\n",
       "  </thead>\n",
       "  <tbody>\n",
       "    <tr>\n",
       "      <td>count</td>\n",
       "      <td>3308</td>\n",
       "      <td>3308.000000</td>\n",
       "      <td>3308.0</td>\n",
       "      <td>3308</td>\n",
       "      <td>3308</td>\n",
       "      <td>3308.000000</td>\n",
       "      <td>3308.000000</td>\n",
       "      <td>3308.000000</td>\n",
       "      <td>3308.000000</td>\n",
       "      <td>3308.000000</td>\n",
       "      <td>3308.000000</td>\n",
       "      <td>3308.000000</td>\n",
       "      <td>3308.000000</td>\n",
       "      <td>3308.000000</td>\n",
       "      <td>3308.00000</td>\n",
       "      <td>3308.000000</td>\n",
       "      <td>3308.000000</td>\n",
       "      <td>3308.000000</td>\n",
       "      <td>3308.000000</td>\n",
       "      <td>3308</td>\n",
       "    </tr>\n",
       "    <tr>\n",
       "      <td>unique</td>\n",
       "      <td>51</td>\n",
       "      <td>NaN</td>\n",
       "      <td>3.0</td>\n",
       "      <td>2</td>\n",
       "      <td>2</td>\n",
       "      <td>NaN</td>\n",
       "      <td>NaN</td>\n",
       "      <td>NaN</td>\n",
       "      <td>NaN</td>\n",
       "      <td>NaN</td>\n",
       "      <td>NaN</td>\n",
       "      <td>NaN</td>\n",
       "      <td>NaN</td>\n",
       "      <td>NaN</td>\n",
       "      <td>NaN</td>\n",
       "      <td>NaN</td>\n",
       "      <td>NaN</td>\n",
       "      <td>NaN</td>\n",
       "      <td>NaN</td>\n",
       "      <td>2</td>\n",
       "    </tr>\n",
       "    <tr>\n",
       "      <td>top</td>\n",
       "      <td>WV</td>\n",
       "      <td>NaN</td>\n",
       "      <td>415.0</td>\n",
       "      <td>no</td>\n",
       "      <td>no</td>\n",
       "      <td>NaN</td>\n",
       "      <td>NaN</td>\n",
       "      <td>NaN</td>\n",
       "      <td>NaN</td>\n",
       "      <td>NaN</td>\n",
       "      <td>NaN</td>\n",
       "      <td>NaN</td>\n",
       "      <td>NaN</td>\n",
       "      <td>NaN</td>\n",
       "      <td>NaN</td>\n",
       "      <td>NaN</td>\n",
       "      <td>NaN</td>\n",
       "      <td>NaN</td>\n",
       "      <td>NaN</td>\n",
       "      <td>False</td>\n",
       "    </tr>\n",
       "    <tr>\n",
       "      <td>freq</td>\n",
       "      <td>104</td>\n",
       "      <td>NaN</td>\n",
       "      <td>1642.0</td>\n",
       "      <td>2986</td>\n",
       "      <td>2393</td>\n",
       "      <td>NaN</td>\n",
       "      <td>NaN</td>\n",
       "      <td>NaN</td>\n",
       "      <td>NaN</td>\n",
       "      <td>NaN</td>\n",
       "      <td>NaN</td>\n",
       "      <td>NaN</td>\n",
       "      <td>NaN</td>\n",
       "      <td>NaN</td>\n",
       "      <td>NaN</td>\n",
       "      <td>NaN</td>\n",
       "      <td>NaN</td>\n",
       "      <td>NaN</td>\n",
       "      <td>NaN</td>\n",
       "      <td>2827</td>\n",
       "    </tr>\n",
       "    <tr>\n",
       "      <td>mean</td>\n",
       "      <td>NaN</td>\n",
       "      <td>100.985187</td>\n",
       "      <td>NaN</td>\n",
       "      <td>NaN</td>\n",
       "      <td>NaN</td>\n",
       "      <td>8.093712</td>\n",
       "      <td>179.810339</td>\n",
       "      <td>100.386336</td>\n",
       "      <td>30.568301</td>\n",
       "      <td>200.818047</td>\n",
       "      <td>100.146614</td>\n",
       "      <td>17.069746</td>\n",
       "      <td>200.876149</td>\n",
       "      <td>100.106711</td>\n",
       "      <td>9.03951</td>\n",
       "      <td>10.241929</td>\n",
       "      <td>4.481862</td>\n",
       "      <td>2.765831</td>\n",
       "      <td>1.562273</td>\n",
       "      <td>NaN</td>\n",
       "    </tr>\n",
       "    <tr>\n",
       "      <td>std</td>\n",
       "      <td>NaN</td>\n",
       "      <td>39.813711</td>\n",
       "      <td>NaN</td>\n",
       "      <td>NaN</td>\n",
       "      <td>NaN</td>\n",
       "      <td>13.683614</td>\n",
       "      <td>54.459880</td>\n",
       "      <td>20.062830</td>\n",
       "      <td>9.258158</td>\n",
       "      <td>50.631189</td>\n",
       "      <td>19.905658</td>\n",
       "      <td>4.303634</td>\n",
       "      <td>50.631472</td>\n",
       "      <td>19.544707</td>\n",
       "      <td>2.27846</td>\n",
       "      <td>2.789151</td>\n",
       "      <td>2.465603</td>\n",
       "      <td>0.753044</td>\n",
       "      <td>1.316336</td>\n",
       "      <td>NaN</td>\n",
       "    </tr>\n",
       "    <tr>\n",
       "      <td>min</td>\n",
       "      <td>NaN</td>\n",
       "      <td>1.000000</td>\n",
       "      <td>NaN</td>\n",
       "      <td>NaN</td>\n",
       "      <td>NaN</td>\n",
       "      <td>0.000000</td>\n",
       "      <td>0.000000</td>\n",
       "      <td>0.000000</td>\n",
       "      <td>0.000000</td>\n",
       "      <td>0.000000</td>\n",
       "      <td>0.000000</td>\n",
       "      <td>0.000000</td>\n",
       "      <td>23.200000</td>\n",
       "      <td>33.000000</td>\n",
       "      <td>1.04000</td>\n",
       "      <td>0.000000</td>\n",
       "      <td>0.000000</td>\n",
       "      <td>0.000000</td>\n",
       "      <td>0.000000</td>\n",
       "      <td>NaN</td>\n",
       "    </tr>\n",
       "    <tr>\n",
       "      <td>25%</td>\n",
       "      <td>NaN</td>\n",
       "      <td>74.000000</td>\n",
       "      <td>NaN</td>\n",
       "      <td>NaN</td>\n",
       "      <td>NaN</td>\n",
       "      <td>0.000000</td>\n",
       "      <td>143.700000</td>\n",
       "      <td>87.000000</td>\n",
       "      <td>24.430000</td>\n",
       "      <td>166.600000</td>\n",
       "      <td>87.000000</td>\n",
       "      <td>14.160000</td>\n",
       "      <td>167.000000</td>\n",
       "      <td>87.000000</td>\n",
       "      <td>7.52000</td>\n",
       "      <td>8.500000</td>\n",
       "      <td>3.000000</td>\n",
       "      <td>2.300000</td>\n",
       "      <td>1.000000</td>\n",
       "      <td>NaN</td>\n",
       "    </tr>\n",
       "    <tr>\n",
       "      <td>50%</td>\n",
       "      <td>NaN</td>\n",
       "      <td>100.000000</td>\n",
       "      <td>NaN</td>\n",
       "      <td>NaN</td>\n",
       "      <td>NaN</td>\n",
       "      <td>0.000000</td>\n",
       "      <td>179.400000</td>\n",
       "      <td>101.000000</td>\n",
       "      <td>30.500000</td>\n",
       "      <td>201.250000</td>\n",
       "      <td>100.000000</td>\n",
       "      <td>17.105000</td>\n",
       "      <td>201.100000</td>\n",
       "      <td>100.000000</td>\n",
       "      <td>9.05000</td>\n",
       "      <td>10.300000</td>\n",
       "      <td>4.000000</td>\n",
       "      <td>2.780000</td>\n",
       "      <td>1.000000</td>\n",
       "      <td>NaN</td>\n",
       "    </tr>\n",
       "    <tr>\n",
       "      <td>75%</td>\n",
       "      <td>NaN</td>\n",
       "      <td>127.000000</td>\n",
       "      <td>NaN</td>\n",
       "      <td>NaN</td>\n",
       "      <td>NaN</td>\n",
       "      <td>20.000000</td>\n",
       "      <td>216.225000</td>\n",
       "      <td>114.000000</td>\n",
       "      <td>36.755000</td>\n",
       "      <td>235.100000</td>\n",
       "      <td>114.000000</td>\n",
       "      <td>19.980000</td>\n",
       "      <td>235.400000</td>\n",
       "      <td>113.000000</td>\n",
       "      <td>10.59000</td>\n",
       "      <td>12.100000</td>\n",
       "      <td>6.000000</td>\n",
       "      <td>3.270000</td>\n",
       "      <td>2.000000</td>\n",
       "      <td>NaN</td>\n",
       "    </tr>\n",
       "    <tr>\n",
       "      <td>max</td>\n",
       "      <td>NaN</td>\n",
       "      <td>243.000000</td>\n",
       "      <td>NaN</td>\n",
       "      <td>NaN</td>\n",
       "      <td>NaN</td>\n",
       "      <td>51.000000</td>\n",
       "      <td>350.800000</td>\n",
       "      <td>165.000000</td>\n",
       "      <td>59.640000</td>\n",
       "      <td>363.700000</td>\n",
       "      <td>170.000000</td>\n",
       "      <td>30.910000</td>\n",
       "      <td>395.000000</td>\n",
       "      <td>175.000000</td>\n",
       "      <td>17.77000</td>\n",
       "      <td>20.000000</td>\n",
       "      <td>20.000000</td>\n",
       "      <td>5.400000</td>\n",
       "      <td>9.000000</td>\n",
       "      <td>NaN</td>\n",
       "    </tr>\n",
       "  </tbody>\n",
       "</table>\n",
       "</div>"
      ],
      "text/plain": [
       "       state  account length  area code international plan voice mail plan  \\\n",
       "count   3308     3308.000000     3308.0               3308            3308   \n",
       "unique    51             NaN        3.0                  2               2   \n",
       "top       WV             NaN      415.0                 no              no   \n",
       "freq     104             NaN     1642.0               2986            2393   \n",
       "mean     NaN      100.985187        NaN                NaN             NaN   \n",
       "std      NaN       39.813711        NaN                NaN             NaN   \n",
       "min      NaN        1.000000        NaN                NaN             NaN   \n",
       "25%      NaN       74.000000        NaN                NaN             NaN   \n",
       "50%      NaN      100.000000        NaN                NaN             NaN   \n",
       "75%      NaN      127.000000        NaN                NaN             NaN   \n",
       "max      NaN      243.000000        NaN                NaN             NaN   \n",
       "\n",
       "        number vmail messages  total day minutes  total day calls  \\\n",
       "count             3308.000000        3308.000000      3308.000000   \n",
       "unique                    NaN                NaN              NaN   \n",
       "top                       NaN                NaN              NaN   \n",
       "freq                      NaN                NaN              NaN   \n",
       "mean                 8.093712         179.810339       100.386336   \n",
       "std                 13.683614          54.459880        20.062830   \n",
       "min                  0.000000           0.000000         0.000000   \n",
       "25%                  0.000000         143.700000        87.000000   \n",
       "50%                  0.000000         179.400000       101.000000   \n",
       "75%                 20.000000         216.225000       114.000000   \n",
       "max                 51.000000         350.800000       165.000000   \n",
       "\n",
       "        total day charge  total eve minutes  total eve calls  \\\n",
       "count        3308.000000        3308.000000      3308.000000   \n",
       "unique               NaN                NaN              NaN   \n",
       "top                  NaN                NaN              NaN   \n",
       "freq                 NaN                NaN              NaN   \n",
       "mean           30.568301         200.818047       100.146614   \n",
       "std             9.258158          50.631189        19.905658   \n",
       "min             0.000000           0.000000         0.000000   \n",
       "25%            24.430000         166.600000        87.000000   \n",
       "50%            30.500000         201.250000       100.000000   \n",
       "75%            36.755000         235.100000       114.000000   \n",
       "max            59.640000         363.700000       170.000000   \n",
       "\n",
       "        total eve charge  total night minutes  total night calls  \\\n",
       "count        3308.000000          3308.000000        3308.000000   \n",
       "unique               NaN                  NaN                NaN   \n",
       "top                  NaN                  NaN                NaN   \n",
       "freq                 NaN                  NaN                NaN   \n",
       "mean           17.069746           200.876149         100.106711   \n",
       "std             4.303634            50.631472          19.544707   \n",
       "min             0.000000            23.200000          33.000000   \n",
       "25%            14.160000           167.000000          87.000000   \n",
       "50%            17.105000           201.100000         100.000000   \n",
       "75%            19.980000           235.400000         113.000000   \n",
       "max            30.910000           395.000000         175.000000   \n",
       "\n",
       "        total night charge  total intl minutes  total intl calls  \\\n",
       "count           3308.00000         3308.000000       3308.000000   \n",
       "unique                 NaN                 NaN               NaN   \n",
       "top                    NaN                 NaN               NaN   \n",
       "freq                   NaN                 NaN               NaN   \n",
       "mean               9.03951           10.241929          4.481862   \n",
       "std                2.27846            2.789151          2.465603   \n",
       "min                1.04000            0.000000          0.000000   \n",
       "25%                7.52000            8.500000          3.000000   \n",
       "50%                9.05000           10.300000          4.000000   \n",
       "75%               10.59000           12.100000          6.000000   \n",
       "max               17.77000           20.000000         20.000000   \n",
       "\n",
       "        total intl charge  customer service calls  churn  \n",
       "count         3308.000000             3308.000000   3308  \n",
       "unique                NaN                     NaN      2  \n",
       "top                   NaN                     NaN  False  \n",
       "freq                  NaN                     NaN   2827  \n",
       "mean             2.765831                1.562273    NaN  \n",
       "std              0.753044                1.316336    NaN  \n",
       "min              0.000000                0.000000    NaN  \n",
       "25%              2.300000                1.000000    NaN  \n",
       "50%              2.780000                1.000000    NaN  \n",
       "75%              3.270000                2.000000    NaN  \n",
       "max              5.400000                9.000000    NaN  "
      ]
     },
     "execution_count": 16,
     "metadata": {},
     "output_type": "execute_result"
    }
   ],
   "source": [
    "# Summary of the dataset\n",
    "summary=churn_df.describe(include='all')\n",
    "summary"
   ]
  },
  {
   "cell_type": "code",
   "execution_count": 17,
   "metadata": {},
   "outputs": [
    {
     "data": {
      "text/html": [
       "<div>\n",
       "<style scoped>\n",
       "    .dataframe tbody tr th:only-of-type {\n",
       "        vertical-align: middle;\n",
       "    }\n",
       "\n",
       "    .dataframe tbody tr th {\n",
       "        vertical-align: top;\n",
       "    }\n",
       "\n",
       "    .dataframe thead th {\n",
       "        text-align: right;\n",
       "    }\n",
       "</style>\n",
       "<table border=\"1\" class=\"dataframe\">\n",
       "  <thead>\n",
       "    <tr style=\"text-align: right;\">\n",
       "      <th></th>\n",
       "      <th>state</th>\n",
       "      <th>area code</th>\n",
       "      <th>international plan</th>\n",
       "      <th>voice mail plan</th>\n",
       "      <th>churn</th>\n",
       "    </tr>\n",
       "  </thead>\n",
       "  <tbody>\n",
       "    <tr>\n",
       "      <td>0</td>\n",
       "      <td>KS</td>\n",
       "      <td>415</td>\n",
       "      <td>no</td>\n",
       "      <td>yes</td>\n",
       "      <td>False</td>\n",
       "    </tr>\n",
       "    <tr>\n",
       "      <td>1</td>\n",
       "      <td>OH</td>\n",
       "      <td>415</td>\n",
       "      <td>no</td>\n",
       "      <td>yes</td>\n",
       "      <td>False</td>\n",
       "    </tr>\n",
       "    <tr>\n",
       "      <td>2</td>\n",
       "      <td>NJ</td>\n",
       "      <td>415</td>\n",
       "      <td>no</td>\n",
       "      <td>no</td>\n",
       "      <td>False</td>\n",
       "    </tr>\n",
       "    <tr>\n",
       "      <td>3</td>\n",
       "      <td>OH</td>\n",
       "      <td>408</td>\n",
       "      <td>yes</td>\n",
       "      <td>no</td>\n",
       "      <td>False</td>\n",
       "    </tr>\n",
       "    <tr>\n",
       "      <td>4</td>\n",
       "      <td>OK</td>\n",
       "      <td>415</td>\n",
       "      <td>yes</td>\n",
       "      <td>no</td>\n",
       "      <td>False</td>\n",
       "    </tr>\n",
       "  </tbody>\n",
       "</table>\n",
       "</div>"
      ],
      "text/plain": [
       "  state area code international plan voice mail plan  churn\n",
       "0    KS       415                 no             yes  False\n",
       "1    OH       415                 no             yes  False\n",
       "2    NJ       415                 no              no  False\n",
       "3    OH       408                yes              no  False\n",
       "4    OK       415                yes              no  False"
      ]
     },
     "execution_count": 17,
     "metadata": {},
     "output_type": "execute_result"
    }
   ],
   "source": [
    "# categorical data in dataset\n",
    "cat_data=churn_df.select_dtypes(exclude=['number', 'float'])\n",
    "cat_data.head()"
   ]
  },
  {
   "cell_type": "code",
   "execution_count": 18,
   "metadata": {},
   "outputs": [
    {
     "data": {
      "text/plain": [
       "(3308, 5)"
      ]
     },
     "execution_count": 18,
     "metadata": {},
     "output_type": "execute_result"
    }
   ],
   "source": [
    "cat_data.shape"
   ]
  },
  {
   "cell_type": "code",
   "execution_count": 19,
   "metadata": {},
   "outputs": [
    {
     "data": {
      "text/html": [
       "<div>\n",
       "<style scoped>\n",
       "    .dataframe tbody tr th:only-of-type {\n",
       "        vertical-align: middle;\n",
       "    }\n",
       "\n",
       "    .dataframe tbody tr th {\n",
       "        vertical-align: top;\n",
       "    }\n",
       "\n",
       "    .dataframe thead th {\n",
       "        text-align: right;\n",
       "    }\n",
       "</style>\n",
       "<table border=\"1\" class=\"dataframe\">\n",
       "  <thead>\n",
       "    <tr style=\"text-align: right;\">\n",
       "      <th></th>\n",
       "      <th>account length</th>\n",
       "      <th>number vmail messages</th>\n",
       "      <th>total day minutes</th>\n",
       "      <th>total day calls</th>\n",
       "      <th>total day charge</th>\n",
       "      <th>total eve minutes</th>\n",
       "      <th>total eve calls</th>\n",
       "      <th>total eve charge</th>\n",
       "      <th>total night minutes</th>\n",
       "      <th>total night calls</th>\n",
       "      <th>total night charge</th>\n",
       "      <th>total intl minutes</th>\n",
       "      <th>total intl calls</th>\n",
       "      <th>total intl charge</th>\n",
       "      <th>customer service calls</th>\n",
       "    </tr>\n",
       "  </thead>\n",
       "  <tbody>\n",
       "    <tr>\n",
       "      <td>0</td>\n",
       "      <td>128.0</td>\n",
       "      <td>25</td>\n",
       "      <td>265.1</td>\n",
       "      <td>110.0</td>\n",
       "      <td>45.07</td>\n",
       "      <td>197.4</td>\n",
       "      <td>99.0</td>\n",
       "      <td>16.78</td>\n",
       "      <td>244.7</td>\n",
       "      <td>91</td>\n",
       "      <td>11.01</td>\n",
       "      <td>10.0</td>\n",
       "      <td>3</td>\n",
       "      <td>2.70</td>\n",
       "      <td>1</td>\n",
       "    </tr>\n",
       "    <tr>\n",
       "      <td>1</td>\n",
       "      <td>107.0</td>\n",
       "      <td>26</td>\n",
       "      <td>161.6</td>\n",
       "      <td>123.0</td>\n",
       "      <td>27.47</td>\n",
       "      <td>195.5</td>\n",
       "      <td>103.0</td>\n",
       "      <td>16.62</td>\n",
       "      <td>254.4</td>\n",
       "      <td>103</td>\n",
       "      <td>11.45</td>\n",
       "      <td>13.7</td>\n",
       "      <td>3</td>\n",
       "      <td>3.70</td>\n",
       "      <td>1</td>\n",
       "    </tr>\n",
       "    <tr>\n",
       "      <td>2</td>\n",
       "      <td>137.0</td>\n",
       "      <td>0</td>\n",
       "      <td>243.4</td>\n",
       "      <td>114.0</td>\n",
       "      <td>41.38</td>\n",
       "      <td>121.2</td>\n",
       "      <td>110.0</td>\n",
       "      <td>10.30</td>\n",
       "      <td>162.6</td>\n",
       "      <td>104</td>\n",
       "      <td>7.32</td>\n",
       "      <td>12.2</td>\n",
       "      <td>5</td>\n",
       "      <td>3.29</td>\n",
       "      <td>0</td>\n",
       "    </tr>\n",
       "    <tr>\n",
       "      <td>3</td>\n",
       "      <td>84.0</td>\n",
       "      <td>0</td>\n",
       "      <td>299.4</td>\n",
       "      <td>71.0</td>\n",
       "      <td>50.90</td>\n",
       "      <td>61.9</td>\n",
       "      <td>88.0</td>\n",
       "      <td>5.26</td>\n",
       "      <td>196.9</td>\n",
       "      <td>89</td>\n",
       "      <td>8.86</td>\n",
       "      <td>6.6</td>\n",
       "      <td>7</td>\n",
       "      <td>1.78</td>\n",
       "      <td>2</td>\n",
       "    </tr>\n",
       "    <tr>\n",
       "      <td>4</td>\n",
       "      <td>75.0</td>\n",
       "      <td>0</td>\n",
       "      <td>166.7</td>\n",
       "      <td>113.0</td>\n",
       "      <td>28.34</td>\n",
       "      <td>148.3</td>\n",
       "      <td>122.0</td>\n",
       "      <td>12.61</td>\n",
       "      <td>186.9</td>\n",
       "      <td>121</td>\n",
       "      <td>8.41</td>\n",
       "      <td>10.1</td>\n",
       "      <td>3</td>\n",
       "      <td>2.73</td>\n",
       "      <td>3</td>\n",
       "    </tr>\n",
       "  </tbody>\n",
       "</table>\n",
       "</div>"
      ],
      "text/plain": [
       "   account length  number vmail messages  total day minutes  total day calls  \\\n",
       "0           128.0                     25              265.1            110.0   \n",
       "1           107.0                     26              161.6            123.0   \n",
       "2           137.0                      0              243.4            114.0   \n",
       "3            84.0                      0              299.4             71.0   \n",
       "4            75.0                      0              166.7            113.0   \n",
       "\n",
       "   total day charge  total eve minutes  total eve calls  total eve charge  \\\n",
       "0             45.07              197.4             99.0             16.78   \n",
       "1             27.47              195.5            103.0             16.62   \n",
       "2             41.38              121.2            110.0             10.30   \n",
       "3             50.90               61.9             88.0              5.26   \n",
       "4             28.34              148.3            122.0             12.61   \n",
       "\n",
       "   total night minutes  total night calls  total night charge  \\\n",
       "0                244.7                 91               11.01   \n",
       "1                254.4                103               11.45   \n",
       "2                162.6                104                7.32   \n",
       "3                196.9                 89                8.86   \n",
       "4                186.9                121                8.41   \n",
       "\n",
       "   total intl minutes  total intl calls  total intl charge  \\\n",
       "0                10.0                 3               2.70   \n",
       "1                13.7                 3               3.70   \n",
       "2                12.2                 5               3.29   \n",
       "3                 6.6                 7               1.78   \n",
       "4                10.1                 3               2.73   \n",
       "\n",
       "   customer service calls  \n",
       "0                       1  \n",
       "1                       1  \n",
       "2                       0  \n",
       "3                       2  \n",
       "4                       3  "
      ]
     },
     "execution_count": 19,
     "metadata": {},
     "output_type": "execute_result"
    }
   ],
   "source": [
    "# Numerical data in the dataset \n",
    "num_data=churn_df.select_dtypes(exclude=['bool_', 'object_'])\n",
    "num_data.head()"
   ]
  },
  {
   "cell_type": "code",
   "execution_count": 20,
   "metadata": {},
   "outputs": [
    {
     "data": {
      "text/plain": [
       "(3308, 15)"
      ]
     },
     "execution_count": 20,
     "metadata": {},
     "output_type": "execute_result"
    }
   ],
   "source": [
    "num_data.shape"
   ]
  },
  {
   "cell_type": "markdown",
   "metadata": {},
   "source": [
    "#### check Collinearity\n",
    "* Bcz we have Numerical Features in dataset\n",
    "* total day minutes and total day charge"
   ]
  },
  {
   "cell_type": "code",
   "execution_count": 21,
   "metadata": {},
   "outputs": [
    {
     "data": {
      "text/plain": [
       "<bound method NDFrame.abs of                         account length  number vmail messages  \\\n",
       "account length                1.000000              -0.006741   \n",
       "number vmail messages        -0.006741               1.000000   \n",
       "total day minutes             0.007622               0.000270   \n",
       "total day calls               0.036234              -0.011127   \n",
       "total day charge              0.007620               0.000269   \n",
       "total eve minutes            -0.006505               0.018293   \n",
       "total eve calls               0.016260              -0.009466   \n",
       "total eve charge             -0.006494               0.018308   \n",
       "total night minutes          -0.009165               0.008182   \n",
       "total night calls            -0.011428               0.010832   \n",
       "total night charge           -0.009168               0.008165   \n",
       "total intl minutes            0.011800               0.002699   \n",
       "total intl calls              0.020813               0.014328   \n",
       "total intl charge             0.011833               0.002722   \n",
       "customer service calls       -0.001970              -0.013435   \n",
       "\n",
       "                        total day minutes  total day calls  total day charge  \\\n",
       "account length                   0.007622         0.036234          0.007620   \n",
       "number vmail messages            0.000270        -0.011127          0.000269   \n",
       "total day minutes                1.000000         0.008477          1.000000   \n",
       "total day calls                  0.008477         1.000000          0.008480   \n",
       "total day charge                 1.000000         0.008480          1.000000   \n",
       "total eve minutes                0.010336        -0.022863          0.010342   \n",
       "total eve calls                  0.014505         0.005715          0.014506   \n",
       "total eve charge                 0.010323        -0.022861          0.010330   \n",
       "total night minutes              0.005648         0.023164          0.005649   \n",
       "total night calls                0.022372        -0.018030          0.022371   \n",
       "total night charge               0.005627         0.023152          0.005628   \n",
       "total intl minutes              -0.011802         0.023890         -0.011805   \n",
       "total intl calls                 0.008612         0.006517          0.008610   \n",
       "total intl charge               -0.011737         0.023984         -0.011739   \n",
       "customer service calls          -0.014871        -0.017674         -0.014874   \n",
       "\n",
       "                        total eve minutes  total eve calls  total eve charge  \\\n",
       "account length                  -0.006505         0.016260         -0.006494   \n",
       "number vmail messages            0.018293        -0.009466          0.018308   \n",
       "total day minutes                0.010336         0.014505          0.010323   \n",
       "total day calls                 -0.022863         0.005715         -0.022861   \n",
       "total day charge                 0.010342         0.014506          0.010330   \n",
       "total eve minutes                1.000000        -0.007275          1.000000   \n",
       "total eve calls                 -0.007275         1.000000         -0.007268   \n",
       "total eve charge                 1.000000        -0.007268          1.000000   \n",
       "total night minutes             -0.012302        -0.002808         -0.012310   \n",
       "total night calls                0.007007         0.009472          0.007019   \n",
       "total night charge              -0.012314        -0.002770         -0.012323   \n",
       "total intl minutes              -0.012513         0.009183         -0.012519   \n",
       "total intl calls                 0.000684         0.018196          0.000684   \n",
       "total intl charge               -0.012534         0.009150         -0.012541   \n",
       "customer service calls          -0.013613         0.004770         -0.013615   \n",
       "\n",
       "                        total night minutes  total night calls  \\\n",
       "account length                    -0.009165          -0.011428   \n",
       "number vmail messages              0.008182           0.010832   \n",
       "total day minutes                  0.005648           0.022372   \n",
       "total day calls                    0.023164          -0.018030   \n",
       "total day charge                   0.005649           0.022371   \n",
       "total eve minutes                 -0.012302           0.007007   \n",
       "total eve calls                   -0.002808           0.009472   \n",
       "total eve charge                  -0.012310           0.007019   \n",
       "total night minutes                1.000000           0.010376   \n",
       "total night calls                  0.010376           1.000000   \n",
       "total night charge                 0.999999           0.010360   \n",
       "total intl minutes                -0.015308          -0.012717   \n",
       "total intl calls                  -0.011037           0.001863   \n",
       "total intl charge                 -0.015277          -0.012735   \n",
       "customer service calls            -0.009751          -0.013240   \n",
       "\n",
       "                        total night charge  total intl minutes  \\\n",
       "account length                   -0.009168            0.011800   \n",
       "number vmail messages             0.008165            0.002699   \n",
       "total day minutes                 0.005627           -0.011802   \n",
       "total day calls                   0.023152            0.023890   \n",
       "total day charge                  0.005628           -0.011805   \n",
       "total eve minutes                -0.012314           -0.012513   \n",
       "total eve calls                  -0.002770            0.009183   \n",
       "total eve charge                 -0.012323           -0.012519   \n",
       "total night minutes               0.999999           -0.015308   \n",
       "total night calls                 0.010360           -0.012717   \n",
       "total night charge                1.000000           -0.015318   \n",
       "total intl minutes               -0.015318            1.000000   \n",
       "total intl calls                 -0.011013            0.030009   \n",
       "total intl charge                -0.015288            0.999993   \n",
       "customer service calls           -0.009741           -0.009981   \n",
       "\n",
       "                        total intl calls  total intl charge  \\\n",
       "account length                  0.020813           0.011833   \n",
       "number vmail messages           0.014328           0.002722   \n",
       "total day minutes               0.008612          -0.011737   \n",
       "total day calls                 0.006517           0.023984   \n",
       "total day charge                0.008610          -0.011739   \n",
       "total eve minutes               0.000684          -0.012534   \n",
       "total eve calls                 0.018196           0.009150   \n",
       "total eve charge                0.000684          -0.012541   \n",
       "total night minutes            -0.011037          -0.015277   \n",
       "total night calls               0.001863          -0.012735   \n",
       "total night charge             -0.011013          -0.015288   \n",
       "total intl minutes              0.030009           0.999993   \n",
       "total intl calls                1.000000           0.030082   \n",
       "total intl charge               0.030082           1.000000   \n",
       "customer service calls         -0.018565          -0.010023   \n",
       "\n",
       "                        customer service calls  \n",
       "account length                       -0.001970  \n",
       "number vmail messages                -0.013435  \n",
       "total day minutes                    -0.014871  \n",
       "total day calls                      -0.017674  \n",
       "total day charge                     -0.014874  \n",
       "total eve minutes                    -0.013613  \n",
       "total eve calls                       0.004770  \n",
       "total eve charge                     -0.013615  \n",
       "total night minutes                  -0.009751  \n",
       "total night calls                    -0.013240  \n",
       "total night charge                   -0.009741  \n",
       "total intl minutes                   -0.009981  \n",
       "total intl calls                     -0.018565  \n",
       "total intl charge                    -0.010023  \n",
       "customer service calls                1.000000  >"
      ]
     },
     "execution_count": 21,
     "metadata": {},
     "output_type": "execute_result"
    }
   ],
   "source": [
    "# Check for Multicollinearity\n",
    "corr_abs=churn_df.corr().abs\n",
    "corr_abs"
   ]
  },
  {
   "cell_type": "code",
   "execution_count": 22,
   "metadata": {},
   "outputs": [],
   "source": [
    "\n",
    "# corr_abs=churn_df.corr().abs\n",
    "\n",
    "# sol=(np.where(np.triu(np.ones(corr_abs.shape), k=1),astype(np.bool)\n",
    "#             .stack()\n",
    "#              .sort_values(ascending=False)))"
   ]
  },
  {
   "cell_type": "code",
   "execution_count": 23,
   "metadata": {},
   "outputs": [
    {
     "data": {
      "text/plain": [
       "[('total day minutes', 'total day charge'),\n",
       " ('total eve minutes', 'total eve charge'),\n",
       " ('total night minutes', 'total night charge'),\n",
       " ('total intl minutes', 'total intl charge')]"
      ]
     },
     "execution_count": 23,
     "metadata": {},
     "output_type": "execute_result"
    }
   ],
   "source": [
    "corr_matrix = churn_df.corr().abs()\n",
    "high_corr_var=np.where(corr_matrix>0.8)\n",
    "high_corr_var=[(corr_matrix.columns[x],corr_matrix.columns[y]) for x,y in zip(*high_corr_var) if x!=y and x<y]\n",
    "high_corr_var"
   ]
  },
  {
   "cell_type": "code",
   "execution_count": 24,
   "metadata": {},
   "outputs": [
    {
     "data": {
      "text/plain": [
       "Index(['state', 'account length', 'area code', 'international plan',\n",
       "       'voice mail plan', 'number vmail messages', 'total day minutes',\n",
       "       'total day calls', 'total eve minutes', 'total eve calls',\n",
       "       'total night minutes', 'total night calls', 'total intl minutes',\n",
       "       'total intl calls', 'customer service calls', 'churn'],\n",
       "      dtype='object')"
      ]
     },
     "execution_count": 24,
     "metadata": {},
     "output_type": "execute_result"
    }
   ],
   "source": [
    "# Drop the features with highest correlation pair\n",
    "# Here dropping the charge columns which are highly correlated to minutes columns\n",
    "\n",
    "churn_df.drop(['total day charge','total eve charge', 'total night charge', 'total intl charge'], axis=1, inplace=True)\n",
    "churn_df.columns"
   ]
  },
  {
   "cell_type": "code",
   "execution_count": 25,
   "metadata": {},
   "outputs": [
    {
     "data": {
      "text/plain": [
       "(3308, 16)"
      ]
     },
     "execution_count": 25,
     "metadata": {},
     "output_type": "execute_result"
    }
   ],
   "source": [
    "churn_df.shape"
   ]
  },
  {
   "cell_type": "code",
   "execution_count": 26,
   "metadata": {},
   "outputs": [],
   "source": [
    "# Check how data is distributed\n",
    "# Histogram\n",
    "# It only plots numerical data\n",
    "# are they normally distributed i.e bell shaped curve\n",
    "# are skewed to the left or Right : indicates data is not propery sampled, data has bias, eg: that one population is higher than other\n",
    " # --mchine learning tends to be biased as well\n",
    "\n",
    "# Therefore we should make sure data is normal. i.e it should look like a bell curved\n",
    "\n"
   ]
  },
  {
   "cell_type": "code",
   "execution_count": 27,
   "metadata": {},
   "outputs": [],
   "source": [
    "import matplotlib.pyplot as plt\n",
    "%matplotlib inline\n"
   ]
  },
  {
   "cell_type": "code",
   "execution_count": 28,
   "metadata": {},
   "outputs": [
    {
     "data": {
      "text/plain": [
       "array([[<matplotlib.axes._subplots.AxesSubplot object at 0x0000019948EDED48>,\n",
       "        <matplotlib.axes._subplots.AxesSubplot object at 0x000001994554D888>,\n",
       "        <matplotlib.axes._subplots.AxesSubplot object at 0x0000019949609888>,\n",
       "        <matplotlib.axes._subplots.AxesSubplot object at 0x0000019949641988>],\n",
       "       [<matplotlib.axes._subplots.AxesSubplot object at 0x0000019949678AC8>,\n",
       "        <matplotlib.axes._subplots.AxesSubplot object at 0x00000199496B0BC8>,\n",
       "        <matplotlib.axes._subplots.AxesSubplot object at 0x00000199496EAC48>,\n",
       "        <matplotlib.axes._subplots.AxesSubplot object at 0x0000019949721D88>],\n",
       "       [<matplotlib.axes._subplots.AxesSubplot object at 0x000001994972A988>,\n",
       "        <matplotlib.axes._subplots.AxesSubplot object at 0x0000019949763B48>,\n",
       "        <matplotlib.axes._subplots.AxesSubplot object at 0x00000199497CE0C8>,\n",
       "        <matplotlib.axes._subplots.AxesSubplot object at 0x0000019949805148>],\n",
       "       [<matplotlib.axes._subplots.AxesSubplot object at 0x000001994983E248>,\n",
       "        <matplotlib.axes._subplots.AxesSubplot object at 0x0000019949877388>,\n",
       "        <matplotlib.axes._subplots.AxesSubplot object at 0x00000199498AE4C8>,\n",
       "        <matplotlib.axes._subplots.AxesSubplot object at 0x00000199498E65C8>]],\n",
       "      dtype=object)"
      ]
     },
     "execution_count": 28,
     "metadata": {},
     "output_type": "execute_result"
    },
    {
     "data": {
      "image/png": "[encoded data removed]",
      "text/plain": [
       "<Figure size 1440x720 with 16 Axes>"
      ]
     },
     "metadata": {
      "needs_background": "light"
     },
     "output_type": "display_data"
    }
   ],
   "source": [
    "# Check how data is distributed\n",
    "\n",
    "num_data.hist(figsize=(20, 10))"
   ]
  },
  {
   "cell_type": "markdown",
   "metadata": {},
   "source": [
    "* there are few features like Number of voice mail messages, customer service calls are biased and need to be taken care of"
   ]
  },
  {
   "cell_type": "code",
   "execution_count": 29,
   "metadata": {},
   "outputs": [
    {
     "name": "stderr",
     "output_type": "stream",
     "text": [
      "C:\\Users\\91988\\Anaconda3\\lib\\site-packages\\seaborn\\axisgrid.py:715: UserWarning: Using the countplot function without specifying `order` is likely to produce an incorrect plot.\n",
      "  warnings.warn(warning)\n"
     ]
    },
    {
     "data": {
      "image/png": "[encoded data removed]",
      "text/plain": [
       "<Figure size 864x432 with 5 Axes>"
      ]
     },
     "metadata": {
      "needs_background": "light"
     },
     "output_type": "display_data"
    }
   ],
   "source": [
    "\n",
    "import seaborn as sns\n",
    "\n",
    "# plot categorical data using seaborn's Facetgrid and pandas melt function\n",
    "\n",
    "f=pd.melt(churn_df, value_vars=sorted(cat_data))\n",
    "g=sns.FacetGrid(f, col='variable', col_wrap=4, sharex=False, sharey=False)\n",
    "plt.xticks(rotation='vertical')\n",
    "g=g.map(sns.countplot, 'value')\n",
    "\n",
    "[plt.setp(ax.get_xticklabels(), rotation=60) for ax in g.axes.flat]\n",
    "g.fig.tight_layout()\n",
    "plt.show()\n"
   ]
  },
  {
   "cell_type": "code",
   "execution_count": 30,
   "metadata": {},
   "outputs": [
    {
     "data": {
      "text/plain": [
       "<matplotlib.axes._subplots.AxesSubplot at 0x1994c0fcec8>"
      ]
     },
     "execution_count": 30,
     "metadata": {},
     "output_type": "execute_result"
    },
    {
     "data": {
      "image/png": "[encoded data removed]",
      "text/plain": [
       "<Figure size 432x288 with 1 Axes>"
      ]
     },
     "metadata": {
      "needs_background": "light"
     },
     "output_type": "display_data"
    }
   ],
   "source": [
    "cat_data['area code'].value_counts().plot(kind='bar')"
   ]
  },
  {
   "cell_type": "code",
   "execution_count": 31,
   "metadata": {},
   "outputs": [
    {
     "data": {
      "text/plain": [
       "<matplotlib.axes._subplots.AxesSubplot at 0x1994c32d288>"
      ]
     },
     "execution_count": 31,
     "metadata": {},
     "output_type": "execute_result"
    },
    {
     "data": {
      "image/png": "[encoded data removed]",
      "text/plain": [
       "<Figure size 432x288 with 1 Axes>"
      ]
     },
     "metadata": {
      "needs_background": "light"
     },
     "output_type": "display_data"
    }
   ],
   "source": [
    "cat_data['churn'].value_counts().plot(kind='bar')"
   ]
  },
  {
   "cell_type": "code",
   "execution_count": 32,
   "metadata": {},
   "outputs": [
    {
     "data": {
      "text/plain": [
       "<matplotlib.axes._subplots.AxesSubplot at 0x1994c519c48>"
      ]
     },
     "execution_count": 32,
     "metadata": {},
     "output_type": "execute_result"
    },
    {
     "data": {
      "image/png": "[encoded data removed]",
      "text/plain": [
       "<Figure size 432x288 with 1 Axes>"
      ]
     },
     "metadata": {
      "needs_background": "light"
     },
     "output_type": "display_data"
    }
   ],
   "source": [
    "cat_data['international plan'].value_counts().plot(kind='bar')"
   ]
  },
  {
   "cell_type": "code",
   "execution_count": 33,
   "metadata": {},
   "outputs": [
    {
     "data": {
      "text/plain": [
       "<matplotlib.axes._subplots.AxesSubplot at 0x1994c588388>"
      ]
     },
     "execution_count": 33,
     "metadata": {},
     "output_type": "execute_result"
    },
    {
     "data": {
      "image/png": "[encoded data removed]",
      "text/plain": [
       "<Figure size 432x288 with 1 Axes>"
      ]
     },
     "metadata": {
      "needs_background": "light"
     },
     "output_type": "display_data"
    }
   ],
   "source": [
    "cat_data['state'].value_counts().plot(kind='bar')"
   ]
  },
  {
   "cell_type": "code",
   "execution_count": 34,
   "metadata": {},
   "outputs": [
    {
     "data": {
      "text/plain": [
       "<matplotlib.axes._subplots.AxesSubplot at 0x1994c6f69c8>"
      ]
     },
     "execution_count": 34,
     "metadata": {},
     "output_type": "execute_result"
    },
    {
     "data": {
      "image/png": "[encoded data removed]",
      "text/plain": [
       "<Figure size 432x288 with 1 Axes>"
      ]
     },
     "metadata": {
      "needs_background": "light"
     },
     "output_type": "display_data"
    }
   ],
   "source": [
    "cat_data['voice mail plan'].value_counts().plot(kind='bar')"
   ]
  },
  {
   "cell_type": "markdown",
   "metadata": {},
   "source": [
    "# Steps to take based on visualization\n",
    "1. Normalize the numerical data\n",
    "2. Convert the categorical data into numerical data so that we can feed the in ML Algorithms\n",
    "3. Also some features are skewed and has imbalanced dataset. so need to handle that as well"
   ]
  },
  {
   "cell_type": "code",
   "execution_count": 35,
   "metadata": {},
   "outputs": [
    {
     "name": "stdout",
     "output_type": "stream",
     "text": [
      "We are interested in the YES class, but has less data = 0.0\n"
     ]
    }
   ],
   "source": [
    "#As we already know that the data has sampling issue for couple of features \n",
    "# as well as the target(output) variable.\n",
    "\n",
    "#is_churn = churn_df['churn']=='yes' #creating a filter where churn ='yes'\n",
    "#y_true = churn_df.churn[is_churn]\n",
    "\n",
    "#print (\"We are interested in the YES class, but has less data = \"+str( (y_true.shape[0] / churn_df[\"churn\"].shape[0]) * 100 ))"
   ]
  },
  {
   "cell_type": "code",
   "execution_count": 36,
   "metadata": {},
   "outputs": [
    {
     "name": "stdout",
     "output_type": "stream",
     "text": [
      "state                       int32\n",
      "account length            float64\n",
      "area code                   int32\n",
      "international plan          int32\n",
      "voice mail plan             int32\n",
      "number vmail messages       int64\n",
      "total day minutes         float64\n",
      "total day calls           float64\n",
      "total eve minutes         float64\n",
      "total eve calls           float64\n",
      "total night minutes       float64\n",
      "total night calls           int64\n",
      "total intl minutes        float64\n",
      "total intl calls            int64\n",
      "customer service calls      int64\n",
      "churn                      object\n",
      "dtype: object\n"
     ]
    }
   ],
   "source": [
    "# Convert categorical data into numerical Data\n",
    "\n",
    "#We can do label encoding from the preprocessing library in sklearn\n",
    "\n",
    "from sklearn import preprocessing\n",
    "label_encoder = preprocessing.LabelEncoder()\n",
    "\n",
    "churn_df['state'] = label_encoder.fit_transform(churn_df['state'])\n",
    "churn_df['international plan'] = label_encoder.fit_transform(churn_df['international plan'])\n",
    "churn_df['voice mail plan'] = label_encoder.fit_transform(churn_df['voice mail plan'])\n",
    "churn_df['area code'] = label_encoder.fit_transform(churn_df['area code'])\n",
    "\n",
    "print (churn_df.dtypes)"
   ]
  },
  {
   "cell_type": "code",
   "execution_count": 37,
   "metadata": {},
   "outputs": [
    {
     "data": {
      "text/html": [
       "<div>\n",
       "<style scoped>\n",
       "    .dataframe tbody tr th:only-of-type {\n",
       "        vertical-align: middle;\n",
       "    }\n",
       "\n",
       "    .dataframe tbody tr th {\n",
       "        vertical-align: top;\n",
       "    }\n",
       "\n",
       "    .dataframe thead th {\n",
       "        text-align: right;\n",
       "    }\n",
       "</style>\n",
       "<table border=\"1\" class=\"dataframe\">\n",
       "  <thead>\n",
       "    <tr style=\"text-align: right;\">\n",
       "      <th></th>\n",
       "      <th>state</th>\n",
       "      <th>account length</th>\n",
       "      <th>area code</th>\n",
       "      <th>international plan</th>\n",
       "      <th>voice mail plan</th>\n",
       "      <th>number vmail messages</th>\n",
       "      <th>total day minutes</th>\n",
       "      <th>total day calls</th>\n",
       "      <th>total eve minutes</th>\n",
       "      <th>total eve calls</th>\n",
       "      <th>total night minutes</th>\n",
       "      <th>total night calls</th>\n",
       "      <th>total intl minutes</th>\n",
       "      <th>total intl calls</th>\n",
       "      <th>customer service calls</th>\n",
       "      <th>churn</th>\n",
       "    </tr>\n",
       "  </thead>\n",
       "  <tbody>\n",
       "    <tr>\n",
       "      <td>0</td>\n",
       "      <td>16</td>\n",
       "      <td>128.0</td>\n",
       "      <td>1</td>\n",
       "      <td>0</td>\n",
       "      <td>1</td>\n",
       "      <td>25</td>\n",
       "      <td>265.1</td>\n",
       "      <td>110.0</td>\n",
       "      <td>197.4</td>\n",
       "      <td>99.0</td>\n",
       "      <td>244.7</td>\n",
       "      <td>91</td>\n",
       "      <td>10.0</td>\n",
       "      <td>3</td>\n",
       "      <td>1</td>\n",
       "      <td>False</td>\n",
       "    </tr>\n",
       "    <tr>\n",
       "      <td>1</td>\n",
       "      <td>35</td>\n",
       "      <td>107.0</td>\n",
       "      <td>1</td>\n",
       "      <td>0</td>\n",
       "      <td>1</td>\n",
       "      <td>26</td>\n",
       "      <td>161.6</td>\n",
       "      <td>123.0</td>\n",
       "      <td>195.5</td>\n",
       "      <td>103.0</td>\n",
       "      <td>254.4</td>\n",
       "      <td>103</td>\n",
       "      <td>13.7</td>\n",
       "      <td>3</td>\n",
       "      <td>1</td>\n",
       "      <td>False</td>\n",
       "    </tr>\n",
       "    <tr>\n",
       "      <td>2</td>\n",
       "      <td>31</td>\n",
       "      <td>137.0</td>\n",
       "      <td>1</td>\n",
       "      <td>0</td>\n",
       "      <td>0</td>\n",
       "      <td>0</td>\n",
       "      <td>243.4</td>\n",
       "      <td>114.0</td>\n",
       "      <td>121.2</td>\n",
       "      <td>110.0</td>\n",
       "      <td>162.6</td>\n",
       "      <td>104</td>\n",
       "      <td>12.2</td>\n",
       "      <td>5</td>\n",
       "      <td>0</td>\n",
       "      <td>False</td>\n",
       "    </tr>\n",
       "    <tr>\n",
       "      <td>3</td>\n",
       "      <td>35</td>\n",
       "      <td>84.0</td>\n",
       "      <td>0</td>\n",
       "      <td>1</td>\n",
       "      <td>0</td>\n",
       "      <td>0</td>\n",
       "      <td>299.4</td>\n",
       "      <td>71.0</td>\n",
       "      <td>61.9</td>\n",
       "      <td>88.0</td>\n",
       "      <td>196.9</td>\n",
       "      <td>89</td>\n",
       "      <td>6.6</td>\n",
       "      <td>7</td>\n",
       "      <td>2</td>\n",
       "      <td>False</td>\n",
       "    </tr>\n",
       "    <tr>\n",
       "      <td>4</td>\n",
       "      <td>36</td>\n",
       "      <td>75.0</td>\n",
       "      <td>1</td>\n",
       "      <td>1</td>\n",
       "      <td>0</td>\n",
       "      <td>0</td>\n",
       "      <td>166.7</td>\n",
       "      <td>113.0</td>\n",
       "      <td>148.3</td>\n",
       "      <td>122.0</td>\n",
       "      <td>186.9</td>\n",
       "      <td>121</td>\n",
       "      <td>10.1</td>\n",
       "      <td>3</td>\n",
       "      <td>3</td>\n",
       "      <td>False</td>\n",
       "    </tr>\n",
       "  </tbody>\n",
       "</table>\n",
       "</div>"
      ],
      "text/plain": [
       "   state  account length  area code  international plan  voice mail plan  \\\n",
       "0     16           128.0          1                   0                1   \n",
       "1     35           107.0          1                   0                1   \n",
       "2     31           137.0          1                   0                0   \n",
       "3     35            84.0          0                   1                0   \n",
       "4     36            75.0          1                   1                0   \n",
       "\n",
       "   number vmail messages  total day minutes  total day calls  \\\n",
       "0                     25              265.1            110.0   \n",
       "1                     26              161.6            123.0   \n",
       "2                      0              243.4            114.0   \n",
       "3                      0              299.4             71.0   \n",
       "4                      0              166.7            113.0   \n",
       "\n",
       "   total eve minutes  total eve calls  total night minutes  total night calls  \\\n",
       "0              197.4             99.0                244.7                 91   \n",
       "1              195.5            103.0                254.4                103   \n",
       "2              121.2            110.0                162.6                104   \n",
       "3               61.9             88.0                196.9                 89   \n",
       "4              148.3            122.0                186.9                121   \n",
       "\n",
       "   total intl minutes  total intl calls  customer service calls  churn  \n",
       "0                10.0                 3                       1  False  \n",
       "1                13.7                 3                       1  False  \n",
       "2                12.2                 5                       0  False  \n",
       "3                 6.6                 7                       2  False  \n",
       "4                10.1                 3                       3  False  "
      ]
     },
     "execution_count": 37,
     "metadata": {},
     "output_type": "execute_result"
    }
   ],
   "source": [
    "churn_df.head()"
   ]
  },
  {
   "cell_type": "code",
   "execution_count": 38,
   "metadata": {},
   "outputs": [
    {
     "data": {
      "text/plain": [
       "(3308, 16)"
      ]
     },
     "execution_count": 38,
     "metadata": {},
     "output_type": "execute_result"
    }
   ],
   "source": [
    "churn_df.shape"
   ]
  },
  {
   "cell_type": "code",
   "execution_count": 78,
   "metadata": {},
   "outputs": [
    {
     "data": {
      "text/html": [
       "<div>\n",
       "<style scoped>\n",
       "    .dataframe tbody tr th:only-of-type {\n",
       "        vertical-align: middle;\n",
       "    }\n",
       "\n",
       "    .dataframe tbody tr th {\n",
       "        vertical-align: top;\n",
       "    }\n",
       "\n",
       "    .dataframe thead th {\n",
       "        text-align: right;\n",
       "    }\n",
       "</style>\n",
       "<table border=\"1\" class=\"dataframe\">\n",
       "  <thead>\n",
       "    <tr style=\"text-align: right;\">\n",
       "      <th></th>\n",
       "      <th>state</th>\n",
       "      <th>account length</th>\n",
       "      <th>area code</th>\n",
       "      <th>international plan</th>\n",
       "      <th>voice mail plan</th>\n",
       "      <th>number vmail messages</th>\n",
       "      <th>total day minutes</th>\n",
       "      <th>total day calls</th>\n",
       "      <th>total eve minutes</th>\n",
       "      <th>total eve calls</th>\n",
       "      <th>total night minutes</th>\n",
       "      <th>total night calls</th>\n",
       "      <th>total intl minutes</th>\n",
       "      <th>total intl calls</th>\n",
       "      <th>customer service calls</th>\n",
       "    </tr>\n",
       "  </thead>\n",
       "  <tbody>\n",
       "    <tr>\n",
       "      <td>0</td>\n",
       "      <td>16</td>\n",
       "      <td>128.0</td>\n",
       "      <td>1</td>\n",
       "      <td>0</td>\n",
       "      <td>1</td>\n",
       "      <td>25</td>\n",
       "      <td>265.1</td>\n",
       "      <td>110.0</td>\n",
       "      <td>197.4</td>\n",
       "      <td>99.0</td>\n",
       "      <td>244.7</td>\n",
       "      <td>91</td>\n",
       "      <td>10.0</td>\n",
       "      <td>3</td>\n",
       "      <td>1</td>\n",
       "    </tr>\n",
       "    <tr>\n",
       "      <td>1</td>\n",
       "      <td>35</td>\n",
       "      <td>107.0</td>\n",
       "      <td>1</td>\n",
       "      <td>0</td>\n",
       "      <td>1</td>\n",
       "      <td>26</td>\n",
       "      <td>161.6</td>\n",
       "      <td>123.0</td>\n",
       "      <td>195.5</td>\n",
       "      <td>103.0</td>\n",
       "      <td>254.4</td>\n",
       "      <td>103</td>\n",
       "      <td>13.7</td>\n",
       "      <td>3</td>\n",
       "      <td>1</td>\n",
       "    </tr>\n",
       "    <tr>\n",
       "      <td>2</td>\n",
       "      <td>31</td>\n",
       "      <td>137.0</td>\n",
       "      <td>1</td>\n",
       "      <td>0</td>\n",
       "      <td>0</td>\n",
       "      <td>0</td>\n",
       "      <td>243.4</td>\n",
       "      <td>114.0</td>\n",
       "      <td>121.2</td>\n",
       "      <td>110.0</td>\n",
       "      <td>162.6</td>\n",
       "      <td>104</td>\n",
       "      <td>12.2</td>\n",
       "      <td>5</td>\n",
       "      <td>0</td>\n",
       "    </tr>\n",
       "    <tr>\n",
       "      <td>3</td>\n",
       "      <td>35</td>\n",
       "      <td>84.0</td>\n",
       "      <td>0</td>\n",
       "      <td>1</td>\n",
       "      <td>0</td>\n",
       "      <td>0</td>\n",
       "      <td>299.4</td>\n",
       "      <td>71.0</td>\n",
       "      <td>61.9</td>\n",
       "      <td>88.0</td>\n",
       "      <td>196.9</td>\n",
       "      <td>89</td>\n",
       "      <td>6.6</td>\n",
       "      <td>7</td>\n",
       "      <td>2</td>\n",
       "    </tr>\n",
       "    <tr>\n",
       "      <td>4</td>\n",
       "      <td>36</td>\n",
       "      <td>75.0</td>\n",
       "      <td>1</td>\n",
       "      <td>1</td>\n",
       "      <td>0</td>\n",
       "      <td>0</td>\n",
       "      <td>166.7</td>\n",
       "      <td>113.0</td>\n",
       "      <td>148.3</td>\n",
       "      <td>122.0</td>\n",
       "      <td>186.9</td>\n",
       "      <td>121</td>\n",
       "      <td>10.1</td>\n",
       "      <td>3</td>\n",
       "      <td>3</td>\n",
       "    </tr>\n",
       "  </tbody>\n",
       "</table>\n",
       "</div>"
      ],
      "text/plain": [
       "   state  account length  area code  international plan  voice mail plan  \\\n",
       "0     16           128.0          1                   0                1   \n",
       "1     35           107.0          1                   0                1   \n",
       "2     31           137.0          1                   0                0   \n",
       "3     35            84.0          0                   1                0   \n",
       "4     36            75.0          1                   1                0   \n",
       "\n",
       "   number vmail messages  total day minutes  total day calls  \\\n",
       "0                     25              265.1            110.0   \n",
       "1                     26              161.6            123.0   \n",
       "2                      0              243.4            114.0   \n",
       "3                      0              299.4             71.0   \n",
       "4                      0              166.7            113.0   \n",
       "\n",
       "   total eve minutes  total eve calls  total night minutes  total night calls  \\\n",
       "0              197.4             99.0                244.7                 91   \n",
       "1              195.5            103.0                254.4                103   \n",
       "2              121.2            110.0                162.6                104   \n",
       "3               61.9             88.0                196.9                 89   \n",
       "4              148.3            122.0                186.9                121   \n",
       "\n",
       "   total intl minutes  total intl calls  customer service calls  \n",
       "0                10.0                 3                       1  \n",
       "1                13.7                 3                       1  \n",
       "2                12.2                 5                       0  \n",
       "3                 6.6                 7                       2  \n",
       "4                10.1                 3                       3  "
      ]
     },
     "execution_count": 78,
     "metadata": {},
     "output_type": "execute_result"
    }
   ],
   "source": [
    "# x and y\n",
    "x=churn_df.drop('churn', axis=1)\n",
    "#x=churn_df.loc[:, churn_df.columns!='churn']\n",
    "x.head()"
   ]
  },
  {
   "cell_type": "code",
   "execution_count": 79,
   "metadata": {},
   "outputs": [
    {
     "data": {
      "text/plain": [
       "(3308, 15)"
      ]
     },
     "execution_count": 79,
     "metadata": {},
     "output_type": "execute_result"
    }
   ],
   "source": [
    "x.shape"
   ]
  },
  {
   "cell_type": "code",
   "execution_count": 82,
   "metadata": {},
   "outputs": [
    {
     "data": {
      "text/html": [
       "<div>\n",
       "<style scoped>\n",
       "    .dataframe tbody tr th:only-of-type {\n",
       "        vertical-align: middle;\n",
       "    }\n",
       "\n",
       "    .dataframe tbody tr th {\n",
       "        vertical-align: top;\n",
       "    }\n",
       "\n",
       "    .dataframe thead th {\n",
       "        text-align: right;\n",
       "    }\n",
       "</style>\n",
       "<table border=\"1\" class=\"dataframe\">\n",
       "  <thead>\n",
       "    <tr style=\"text-align: right;\">\n",
       "      <th></th>\n",
       "      <th>churn</th>\n",
       "    </tr>\n",
       "  </thead>\n",
       "  <tbody>\n",
       "    <tr>\n",
       "      <td>0</td>\n",
       "      <td>False</td>\n",
       "    </tr>\n",
       "    <tr>\n",
       "      <td>1</td>\n",
       "      <td>False</td>\n",
       "    </tr>\n",
       "    <tr>\n",
       "      <td>2</td>\n",
       "      <td>False</td>\n",
       "    </tr>\n",
       "    <tr>\n",
       "      <td>3</td>\n",
       "      <td>False</td>\n",
       "    </tr>\n",
       "    <tr>\n",
       "      <td>4</td>\n",
       "      <td>False</td>\n",
       "    </tr>\n",
       "  </tbody>\n",
       "</table>\n",
       "</div>"
      ],
      "text/plain": [
       "   churn\n",
       "0  False\n",
       "1  False\n",
       "2  False\n",
       "3  False\n",
       "4  False"
      ]
     },
     "execution_count": 82,
     "metadata": {},
     "output_type": "execute_result"
    }
   ],
   "source": [
    "y=churn_df[['churn']]\n",
    "y.head()"
   ]
  },
  {
   "cell_type": "code",
   "execution_count": 83,
   "metadata": {},
   "outputs": [
    {
     "data": {
      "text/plain": [
       "(3308, 1)"
      ]
     },
     "execution_count": 83,
     "metadata": {},
     "output_type": "execute_result"
    }
   ],
   "source": [
    "y.shape"
   ]
  },
  {
   "cell_type": "code",
   "execution_count": 89,
   "metadata": {},
   "outputs": [
    {
     "data": {
      "text/html": [
       "<div>\n",
       "<style scoped>\n",
       "    .dataframe tbody tr th:only-of-type {\n",
       "        vertical-align: middle;\n",
       "    }\n",
       "\n",
       "    .dataframe tbody tr th {\n",
       "        vertical-align: top;\n",
       "    }\n",
       "\n",
       "    .dataframe thead th {\n",
       "        text-align: right;\n",
       "    }\n",
       "</style>\n",
       "<table border=\"1\" class=\"dataframe\">\n",
       "  <thead>\n",
       "    <tr style=\"text-align: right;\">\n",
       "      <th></th>\n",
       "      <th>churn_True</th>\n",
       "    </tr>\n",
       "  </thead>\n",
       "  <tbody>\n",
       "    <tr>\n",
       "      <td>0</td>\n",
       "      <td>0</td>\n",
       "    </tr>\n",
       "    <tr>\n",
       "      <td>1</td>\n",
       "      <td>0</td>\n",
       "    </tr>\n",
       "    <tr>\n",
       "      <td>2</td>\n",
       "      <td>0</td>\n",
       "    </tr>\n",
       "    <tr>\n",
       "      <td>3</td>\n",
       "      <td>0</td>\n",
       "    </tr>\n",
       "    <tr>\n",
       "      <td>4</td>\n",
       "      <td>0</td>\n",
       "    </tr>\n",
       "    <tr>\n",
       "      <td>...</td>\n",
       "      <td>...</td>\n",
       "    </tr>\n",
       "    <tr>\n",
       "      <td>3324</td>\n",
       "      <td>0</td>\n",
       "    </tr>\n",
       "    <tr>\n",
       "      <td>3325</td>\n",
       "      <td>0</td>\n",
       "    </tr>\n",
       "    <tr>\n",
       "      <td>3326</td>\n",
       "      <td>0</td>\n",
       "    </tr>\n",
       "    <tr>\n",
       "      <td>3331</td>\n",
       "      <td>0</td>\n",
       "    </tr>\n",
       "    <tr>\n",
       "      <td>3332</td>\n",
       "      <td>0</td>\n",
       "    </tr>\n",
       "  </tbody>\n",
       "</table>\n",
       "<p>3308 rows × 1 columns</p>\n",
       "</div>"
      ],
      "text/plain": [
       "      churn_True\n",
       "0              0\n",
       "1              0\n",
       "2              0\n",
       "3              0\n",
       "4              0\n",
       "...          ...\n",
       "3324           0\n",
       "3325           0\n",
       "3326           0\n",
       "3331           0\n",
       "3332           0\n",
       "\n",
       "[3308 rows x 1 columns]"
      ]
     },
     "execution_count": 89,
     "metadata": {},
     "output_type": "execute_result"
    }
   ],
   "source": [
    "y1=pd.get_dummies(y, drop_first=True)\n",
    "y1"
   ]
  },
  {
   "cell_type": "code",
   "execution_count": 43,
   "metadata": {},
   "outputs": [],
   "source": [
    "# Let's standardize the data\n",
    "# standardizing can help features arrive in more digestible form for these algorithms.\n",
    "#Basically get to solution (Gradient Descent faster).\n",
    "\n",
    "#A quick difference between Standardize and Normalize.\n",
    "#Normalization usually means to scale a variable to have a values between 0 and 1, \n",
    "# while standardization transforms data to have a mean of zero and a standard deviation of 1.\n",
    "\n",
    "\n",
    "#You can read more about it here\n",
    "# https://stats.stackexchange.com/questions/10289/whats-the-difference-between-normalization-and-standardization\n",
    "\n",
    "#scaler = preprocessing.StandardScaler()\n",
    "#X = scaler.fit_transform(x)"
   ]
  },
  {
   "cell_type": "markdown",
   "metadata": {},
   "source": [
    "# Train Test split"
   ]
  },
  {
   "cell_type": "code",
   "execution_count": 94,
   "metadata": {},
   "outputs": [],
   "source": [
    "from sklearn.model_selection import train_test_split\n",
    "x_train, x_test, y_train, y_test= train_test_split(x,y1, test_size=0.20)"
   ]
  },
  {
   "cell_type": "code",
   "execution_count": 95,
   "metadata": {},
   "outputs": [
    {
     "name": "stdout",
     "output_type": "stream",
     "text": [
      "(2646, 15)\n",
      "(2646, 1)\n",
      "(662, 15)\n",
      "(662, 1)\n"
     ]
    }
   ],
   "source": [
    "print(x_train.shape)\n",
    "print(y_train.shape)\n",
    "print(x_test.shape)\n",
    "print(y_test.shape)"
   ]
  },
  {
   "cell_type": "markdown",
   "metadata": {},
   "source": [
    "# RandomForest Classifier"
   ]
  },
  {
   "cell_type": "code",
   "execution_count": 96,
   "metadata": {},
   "outputs": [],
   "source": [
    "from sklearn.ensemble import RandomForestClassifier\n",
    "rfc=RandomForestClassifier()"
   ]
  },
  {
   "cell_type": "code",
   "execution_count": 97,
   "metadata": {},
   "outputs": [
    {
     "name": "stderr",
     "output_type": "stream",
     "text": [
      "C:\\Users\\91988\\Anaconda3\\lib\\site-packages\\sklearn\\ensemble\\forest.py:245: FutureWarning: The default value of n_estimators will change from 10 in version 0.20 to 100 in 0.22.\n",
      "  \"10 in version 0.20 to 100 in 0.22.\", FutureWarning)\n",
      "C:\\Users\\91988\\Anaconda3\\lib\\site-packages\\ipykernel_launcher.py:1: DataConversionWarning: A column-vector y was passed when a 1d array was expected. Please change the shape of y to (n_samples,), for example using ravel().\n",
      "  \"\"\"Entry point for launching an IPython kernel.\n"
     ]
    },
    {
     "data": {
      "text/plain": [
       "RandomForestClassifier(bootstrap=True, class_weight=None, criterion='gini',\n",
       "                       max_depth=None, max_features='auto', max_leaf_nodes=None,\n",
       "                       min_impurity_decrease=0.0, min_impurity_split=None,\n",
       "                       min_samples_leaf=1, min_samples_split=2,\n",
       "                       min_weight_fraction_leaf=0.0, n_estimators=10,\n",
       "                       n_jobs=None, oob_score=False, random_state=None,\n",
       "                       verbose=0, warm_start=False)"
      ]
     },
     "execution_count": 97,
     "metadata": {},
     "output_type": "execute_result"
    }
   ],
   "source": [
    "rfc.fit(x_train, y_train)"
   ]
  },
  {
   "cell_type": "code",
   "execution_count": 99,
   "metadata": {},
   "outputs": [
    {
     "data": {
      "text/plain": [
       "0.9916855631141346"
      ]
     },
     "execution_count": 99,
     "metadata": {},
     "output_type": "execute_result"
    }
   ],
   "source": [
    "# Check accuracy on training\n",
    "rfc.score(x_train, y_train)"
   ]
  },
  {
   "cell_type": "code",
   "execution_count": 101,
   "metadata": {},
   "outputs": [],
   "source": [
    "# Prediction\n",
    "y_pred=rfc.predict(x_test)"
   ]
  },
  {
   "cell_type": "code",
   "execution_count": 102,
   "metadata": {},
   "outputs": [
    {
     "data": {
      "text/plain": [
       "array([[557,   6],\n",
       "       [ 47,  52]], dtype=int64)"
      ]
     },
     "execution_count": 102,
     "metadata": {},
     "output_type": "execute_result"
    }
   ],
   "source": [
    "from sklearn.metrics import confusion_matrix, classification_report\n",
    "confusion_matrix(y_test, y_pred)"
   ]
  },
  {
   "cell_type": "code",
   "execution_count": 103,
   "metadata": {},
   "outputs": [
    {
     "data": {
      "text/plain": [
       "0.9199395770392749"
      ]
     },
     "execution_count": 103,
     "metadata": {},
     "output_type": "execute_result"
    }
   ],
   "source": [
    "(557+52)/(557+6+47+52)"
   ]
  },
  {
   "cell_type": "code",
   "execution_count": 104,
   "metadata": {},
   "outputs": [
    {
     "data": {
      "text/plain": [
       "0.9199395770392749"
      ]
     },
     "execution_count": 104,
     "metadata": {},
     "output_type": "execute_result"
    }
   ],
   "source": [
    "# Accuracy on test\n",
    "rfc.score(x_test, y_test)"
   ]
  },
  {
   "cell_type": "code",
   "execution_count": 105,
   "metadata": {},
   "outputs": [
    {
     "name": "stdout",
     "output_type": "stream",
     "text": [
      "              precision    recall  f1-score   support\n",
      "\n",
      "           0       0.92      0.99      0.95       563\n",
      "           1       0.90      0.53      0.66        99\n",
      "\n",
      "    accuracy                           0.92       662\n",
      "   macro avg       0.91      0.76      0.81       662\n",
      "weighted avg       0.92      0.92      0.91       662\n",
      "\n"
     ]
    }
   ],
   "source": [
    "print(classification_report(y_test, y_pred))"
   ]
  },
  {
   "cell_type": "code",
   "execution_count": 106,
   "metadata": {},
   "outputs": [
    {
     "name": "stderr",
     "output_type": "stream",
     "text": [
      "C:\\Users\\91988\\Anaconda3\\lib\\site-packages\\ipykernel_launcher.py:2: SettingWithCopyWarning: \n",
      "A value is trying to be set on a copy of a slice from a DataFrame.\n",
      "Try using .loc[row_indexer,col_indexer] = value instead\n",
      "\n",
      "See the caveats in the documentation: http://pandas.pydata.org/pandas-docs/stable/user_guide/indexing.html#returning-a-view-versus-a-copy\n",
      "  \n"
     ]
    }
   ],
   "source": [
    "# Extract predicted Churn customers \n",
    "x_test['rfc_pred']=y_pred"
   ]
  },
  {
   "cell_type": "code",
   "execution_count": 107,
   "metadata": {},
   "outputs": [
    {
     "data": {
      "text/html": [
       "<div>\n",
       "<style scoped>\n",
       "    .dataframe tbody tr th:only-of-type {\n",
       "        vertical-align: middle;\n",
       "    }\n",
       "\n",
       "    .dataframe tbody tr th {\n",
       "        vertical-align: top;\n",
       "    }\n",
       "\n",
       "    .dataframe thead th {\n",
       "        text-align: right;\n",
       "    }\n",
       "</style>\n",
       "<table border=\"1\" class=\"dataframe\">\n",
       "  <thead>\n",
       "    <tr style=\"text-align: right;\">\n",
       "      <th></th>\n",
       "      <th>state</th>\n",
       "      <th>account length</th>\n",
       "      <th>area code</th>\n",
       "      <th>international plan</th>\n",
       "      <th>voice mail plan</th>\n",
       "      <th>number vmail messages</th>\n",
       "      <th>total day minutes</th>\n",
       "      <th>total day calls</th>\n",
       "      <th>total eve minutes</th>\n",
       "      <th>total eve calls</th>\n",
       "      <th>total night minutes</th>\n",
       "      <th>total night calls</th>\n",
       "      <th>total intl minutes</th>\n",
       "      <th>total intl calls</th>\n",
       "      <th>customer service calls</th>\n",
       "      <th>rfc_pred</th>\n",
       "    </tr>\n",
       "  </thead>\n",
       "  <tbody>\n",
       "    <tr>\n",
       "      <td>784</td>\n",
       "      <td>24</td>\n",
       "      <td>107.0</td>\n",
       "      <td>1</td>\n",
       "      <td>0</td>\n",
       "      <td>1</td>\n",
       "      <td>22</td>\n",
       "      <td>281.1</td>\n",
       "      <td>83.0</td>\n",
       "      <td>143.7</td>\n",
       "      <td>130.0</td>\n",
       "      <td>239.4</td>\n",
       "      <td>128</td>\n",
       "      <td>11.2</td>\n",
       "      <td>9</td>\n",
       "      <td>1</td>\n",
       "      <td>0</td>\n",
       "    </tr>\n",
       "    <tr>\n",
       "      <td>444</td>\n",
       "      <td>48</td>\n",
       "      <td>85.0</td>\n",
       "      <td>0</td>\n",
       "      <td>1</td>\n",
       "      <td>0</td>\n",
       "      <td>0</td>\n",
       "      <td>165.4</td>\n",
       "      <td>107.0</td>\n",
       "      <td>196.0</td>\n",
       "      <td>126.0</td>\n",
       "      <td>349.2</td>\n",
       "      <td>110</td>\n",
       "      <td>9.6</td>\n",
       "      <td>7</td>\n",
       "      <td>2</td>\n",
       "      <td>0</td>\n",
       "    </tr>\n",
       "    <tr>\n",
       "      <td>3023</td>\n",
       "      <td>26</td>\n",
       "      <td>103.0</td>\n",
       "      <td>2</td>\n",
       "      <td>0</td>\n",
       "      <td>1</td>\n",
       "      <td>35</td>\n",
       "      <td>110.5</td>\n",
       "      <td>101.0</td>\n",
       "      <td>208.3</td>\n",
       "      <td>81.0</td>\n",
       "      <td>87.4</td>\n",
       "      <td>77</td>\n",
       "      <td>13.9</td>\n",
       "      <td>2</td>\n",
       "      <td>4</td>\n",
       "      <td>1</td>\n",
       "    </tr>\n",
       "    <tr>\n",
       "      <td>1818</td>\n",
       "      <td>8</td>\n",
       "      <td>78.0</td>\n",
       "      <td>0</td>\n",
       "      <td>0</td>\n",
       "      <td>0</td>\n",
       "      <td>0</td>\n",
       "      <td>139.2</td>\n",
       "      <td>140.0</td>\n",
       "      <td>191.4</td>\n",
       "      <td>113.0</td>\n",
       "      <td>286.5</td>\n",
       "      <td>125</td>\n",
       "      <td>11.8</td>\n",
       "      <td>3</td>\n",
       "      <td>3</td>\n",
       "      <td>0</td>\n",
       "    </tr>\n",
       "    <tr>\n",
       "      <td>2417</td>\n",
       "      <td>10</td>\n",
       "      <td>120.0</td>\n",
       "      <td>0</td>\n",
       "      <td>0</td>\n",
       "      <td>0</td>\n",
       "      <td>0</td>\n",
       "      <td>98.2</td>\n",
       "      <td>99.0</td>\n",
       "      <td>186.7</td>\n",
       "      <td>85.0</td>\n",
       "      <td>146.7</td>\n",
       "      <td>96</td>\n",
       "      <td>9.3</td>\n",
       "      <td>4</td>\n",
       "      <td>2</td>\n",
       "      <td>0</td>\n",
       "    </tr>\n",
       "    <tr>\n",
       "      <td>...</td>\n",
       "      <td>...</td>\n",
       "      <td>...</td>\n",
       "      <td>...</td>\n",
       "      <td>...</td>\n",
       "      <td>...</td>\n",
       "      <td>...</td>\n",
       "      <td>...</td>\n",
       "      <td>...</td>\n",
       "      <td>...</td>\n",
       "      <td>...</td>\n",
       "      <td>...</td>\n",
       "      <td>...</td>\n",
       "      <td>...</td>\n",
       "      <td>...</td>\n",
       "      <td>...</td>\n",
       "      <td>...</td>\n",
       "    </tr>\n",
       "    <tr>\n",
       "      <td>3049</td>\n",
       "      <td>22</td>\n",
       "      <td>147.0</td>\n",
       "      <td>1</td>\n",
       "      <td>0</td>\n",
       "      <td>0</td>\n",
       "      <td>0</td>\n",
       "      <td>130.6</td>\n",
       "      <td>83.0</td>\n",
       "      <td>208.1</td>\n",
       "      <td>144.0</td>\n",
       "      <td>204.6</td>\n",
       "      <td>72</td>\n",
       "      <td>15.6</td>\n",
       "      <td>3</td>\n",
       "      <td>3</td>\n",
       "      <td>0</td>\n",
       "    </tr>\n",
       "    <tr>\n",
       "      <td>2167</td>\n",
       "      <td>4</td>\n",
       "      <td>120.0</td>\n",
       "      <td>2</td>\n",
       "      <td>0</td>\n",
       "      <td>0</td>\n",
       "      <td>0</td>\n",
       "      <td>134.8</td>\n",
       "      <td>94.0</td>\n",
       "      <td>204.1</td>\n",
       "      <td>106.0</td>\n",
       "      <td>238.4</td>\n",
       "      <td>109</td>\n",
       "      <td>6.7</td>\n",
       "      <td>8</td>\n",
       "      <td>1</td>\n",
       "      <td>0</td>\n",
       "    </tr>\n",
       "    <tr>\n",
       "      <td>3257</td>\n",
       "      <td>34</td>\n",
       "      <td>171.0</td>\n",
       "      <td>1</td>\n",
       "      <td>0</td>\n",
       "      <td>0</td>\n",
       "      <td>0</td>\n",
       "      <td>137.5</td>\n",
       "      <td>110.0</td>\n",
       "      <td>198.1</td>\n",
       "      <td>109.0</td>\n",
       "      <td>292.7</td>\n",
       "      <td>131</td>\n",
       "      <td>13.3</td>\n",
       "      <td>5</td>\n",
       "      <td>2</td>\n",
       "      <td>0</td>\n",
       "    </tr>\n",
       "    <tr>\n",
       "      <td>1663</td>\n",
       "      <td>49</td>\n",
       "      <td>191.0</td>\n",
       "      <td>0</td>\n",
       "      <td>0</td>\n",
       "      <td>0</td>\n",
       "      <td>0</td>\n",
       "      <td>162.0</td>\n",
       "      <td>104.0</td>\n",
       "      <td>241.2</td>\n",
       "      <td>120.0</td>\n",
       "      <td>210.4</td>\n",
       "      <td>83</td>\n",
       "      <td>10.9</td>\n",
       "      <td>7</td>\n",
       "      <td>1</td>\n",
       "      <td>0</td>\n",
       "    </tr>\n",
       "    <tr>\n",
       "      <td>1524</td>\n",
       "      <td>4</td>\n",
       "      <td>93.0</td>\n",
       "      <td>2</td>\n",
       "      <td>0</td>\n",
       "      <td>1</td>\n",
       "      <td>19</td>\n",
       "      <td>136.8</td>\n",
       "      <td>113.0</td>\n",
       "      <td>179.5</td>\n",
       "      <td>105.0</td>\n",
       "      <td>71.1</td>\n",
       "      <td>95</td>\n",
       "      <td>12.5</td>\n",
       "      <td>3</td>\n",
       "      <td>2</td>\n",
       "      <td>0</td>\n",
       "    </tr>\n",
       "  </tbody>\n",
       "</table>\n",
       "<p>662 rows × 16 columns</p>\n",
       "</div>"
      ],
      "text/plain": [
       "      state  account length  area code  international plan  voice mail plan  \\\n",
       "784      24           107.0          1                   0                1   \n",
       "444      48            85.0          0                   1                0   \n",
       "3023     26           103.0          2                   0                1   \n",
       "1818      8            78.0          0                   0                0   \n",
       "2417     10           120.0          0                   0                0   \n",
       "...     ...             ...        ...                 ...              ...   \n",
       "3049     22           147.0          1                   0                0   \n",
       "2167      4           120.0          2                   0                0   \n",
       "3257     34           171.0          1                   0                0   \n",
       "1663     49           191.0          0                   0                0   \n",
       "1524      4            93.0          2                   0                1   \n",
       "\n",
       "      number vmail messages  total day minutes  total day calls  \\\n",
       "784                      22              281.1             83.0   \n",
       "444                       0              165.4            107.0   \n",
       "3023                     35              110.5            101.0   \n",
       "1818                      0              139.2            140.0   \n",
       "2417                      0               98.2             99.0   \n",
       "...                     ...                ...              ...   \n",
       "3049                      0              130.6             83.0   \n",
       "2167                      0              134.8             94.0   \n",
       "3257                      0              137.5            110.0   \n",
       "1663                      0              162.0            104.0   \n",
       "1524                     19              136.8            113.0   \n",
       "\n",
       "      total eve minutes  total eve calls  total night minutes  \\\n",
       "784               143.7            130.0                239.4   \n",
       "444               196.0            126.0                349.2   \n",
       "3023              208.3             81.0                 87.4   \n",
       "1818              191.4            113.0                286.5   \n",
       "2417              186.7             85.0                146.7   \n",
       "...                 ...              ...                  ...   \n",
       "3049              208.1            144.0                204.6   \n",
       "2167              204.1            106.0                238.4   \n",
       "3257              198.1            109.0                292.7   \n",
       "1663              241.2            120.0                210.4   \n",
       "1524              179.5            105.0                 71.1   \n",
       "\n",
       "      total night calls  total intl minutes  total intl calls  \\\n",
       "784                 128                11.2                 9   \n",
       "444                 110                 9.6                 7   \n",
       "3023                 77                13.9                 2   \n",
       "1818                125                11.8                 3   \n",
       "2417                 96                 9.3                 4   \n",
       "...                 ...                 ...               ...   \n",
       "3049                 72                15.6                 3   \n",
       "2167                109                 6.7                 8   \n",
       "3257                131                13.3                 5   \n",
       "1663                 83                10.9                 7   \n",
       "1524                 95                12.5                 3   \n",
       "\n",
       "      customer service calls  rfc_pred  \n",
       "784                        1         0  \n",
       "444                        2         0  \n",
       "3023                       4         1  \n",
       "1818                       3         0  \n",
       "2417                       2         0  \n",
       "...                      ...       ...  \n",
       "3049                       3         0  \n",
       "2167                       1         0  \n",
       "3257                       2         0  \n",
       "1663                       1         0  \n",
       "1524                       2         0  \n",
       "\n",
       "[662 rows x 16 columns]"
      ]
     },
     "execution_count": 107,
     "metadata": {},
     "output_type": "execute_result"
    }
   ],
   "source": [
    "x_test"
   ]
  },
  {
   "cell_type": "code",
   "execution_count": 108,
   "metadata": {},
   "outputs": [],
   "source": [
    "churn_customer_rcf=x_test.query('rfc_pred==True')"
   ]
  },
  {
   "cell_type": "code",
   "execution_count": 110,
   "metadata": {},
   "outputs": [
    {
     "data": {
      "text/html": [
       "<div>\n",
       "<style scoped>\n",
       "    .dataframe tbody tr th:only-of-type {\n",
       "        vertical-align: middle;\n",
       "    }\n",
       "\n",
       "    .dataframe tbody tr th {\n",
       "        vertical-align: top;\n",
       "    }\n",
       "\n",
       "    .dataframe thead th {\n",
       "        text-align: right;\n",
       "    }\n",
       "</style>\n",
       "<table border=\"1\" class=\"dataframe\">\n",
       "  <thead>\n",
       "    <tr style=\"text-align: right;\">\n",
       "      <th></th>\n",
       "      <th>state</th>\n",
       "      <th>account length</th>\n",
       "      <th>area code</th>\n",
       "      <th>international plan</th>\n",
       "      <th>voice mail plan</th>\n",
       "      <th>number vmail messages</th>\n",
       "      <th>total day minutes</th>\n",
       "      <th>total day calls</th>\n",
       "      <th>total eve minutes</th>\n",
       "      <th>total eve calls</th>\n",
       "      <th>total night minutes</th>\n",
       "      <th>total night calls</th>\n",
       "      <th>total intl minutes</th>\n",
       "      <th>total intl calls</th>\n",
       "      <th>customer service calls</th>\n",
       "      <th>rfc_pred</th>\n",
       "    </tr>\n",
       "  </thead>\n",
       "  <tbody>\n",
       "    <tr>\n",
       "      <td>3023</td>\n",
       "      <td>26</td>\n",
       "      <td>103.0</td>\n",
       "      <td>2</td>\n",
       "      <td>0</td>\n",
       "      <td>1</td>\n",
       "      <td>35</td>\n",
       "      <td>110.5</td>\n",
       "      <td>101.0</td>\n",
       "      <td>208.3</td>\n",
       "      <td>81.0</td>\n",
       "      <td>87.4</td>\n",
       "      <td>77</td>\n",
       "      <td>13.9</td>\n",
       "      <td>2</td>\n",
       "      <td>4</td>\n",
       "      <td>1</td>\n",
       "    </tr>\n",
       "    <tr>\n",
       "      <td>1837</td>\n",
       "      <td>30</td>\n",
       "      <td>117.0</td>\n",
       "      <td>2</td>\n",
       "      <td>1</td>\n",
       "      <td>0</td>\n",
       "      <td>0</td>\n",
       "      <td>54.2</td>\n",
       "      <td>100.0</td>\n",
       "      <td>303.2</td>\n",
       "      <td>84.0</td>\n",
       "      <td>171.8</td>\n",
       "      <td>84</td>\n",
       "      <td>8.6</td>\n",
       "      <td>2</td>\n",
       "      <td>1</td>\n",
       "      <td>1</td>\n",
       "    </tr>\n",
       "    <tr>\n",
       "      <td>1974</td>\n",
       "      <td>17</td>\n",
       "      <td>113.0</td>\n",
       "      <td>0</td>\n",
       "      <td>0</td>\n",
       "      <td>1</td>\n",
       "      <td>20</td>\n",
       "      <td>157.8</td>\n",
       "      <td>83.0</td>\n",
       "      <td>161.5</td>\n",
       "      <td>56.0</td>\n",
       "      <td>271.5</td>\n",
       "      <td>100</td>\n",
       "      <td>8.7</td>\n",
       "      <td>2</td>\n",
       "      <td>5</td>\n",
       "      <td>1</td>\n",
       "    </tr>\n",
       "    <tr>\n",
       "      <td>3205</td>\n",
       "      <td>25</td>\n",
       "      <td>111.0</td>\n",
       "      <td>0</td>\n",
       "      <td>0</td>\n",
       "      <td>0</td>\n",
       "      <td>0</td>\n",
       "      <td>294.7</td>\n",
       "      <td>90.0</td>\n",
       "      <td>294.6</td>\n",
       "      <td>72.0</td>\n",
       "      <td>260.1</td>\n",
       "      <td>121</td>\n",
       "      <td>10.8</td>\n",
       "      <td>3</td>\n",
       "      <td>1</td>\n",
       "      <td>1</td>\n",
       "    </tr>\n",
       "    <tr>\n",
       "      <td>2622</td>\n",
       "      <td>14</td>\n",
       "      <td>86.0</td>\n",
       "      <td>2</td>\n",
       "      <td>0</td>\n",
       "      <td>1</td>\n",
       "      <td>16</td>\n",
       "      <td>144.8</td>\n",
       "      <td>105.0</td>\n",
       "      <td>206.2</td>\n",
       "      <td>111.0</td>\n",
       "      <td>255.4</td>\n",
       "      <td>117</td>\n",
       "      <td>11.6</td>\n",
       "      <td>2</td>\n",
       "      <td>4</td>\n",
       "      <td>1</td>\n",
       "    </tr>\n",
       "  </tbody>\n",
       "</table>\n",
       "</div>"
      ],
      "text/plain": [
       "      state  account length  area code  international plan  voice mail plan  \\\n",
       "3023     26           103.0          2                   0                1   \n",
       "1837     30           117.0          2                   1                0   \n",
       "1974     17           113.0          0                   0                1   \n",
       "3205     25           111.0          0                   0                0   \n",
       "2622     14            86.0          2                   0                1   \n",
       "\n",
       "      number vmail messages  total day minutes  total day calls  \\\n",
       "3023                     35              110.5            101.0   \n",
       "1837                      0               54.2            100.0   \n",
       "1974                     20              157.8             83.0   \n",
       "3205                      0              294.7             90.0   \n",
       "2622                     16              144.8            105.0   \n",
       "\n",
       "      total eve minutes  total eve calls  total night minutes  \\\n",
       "3023              208.3             81.0                 87.4   \n",
       "1837              303.2             84.0                171.8   \n",
       "1974              161.5             56.0                271.5   \n",
       "3205              294.6             72.0                260.1   \n",
       "2622              206.2            111.0                255.4   \n",
       "\n",
       "      total night calls  total intl minutes  total intl calls  \\\n",
       "3023                 77                13.9                 2   \n",
       "1837                 84                 8.6                 2   \n",
       "1974                100                 8.7                 2   \n",
       "3205                121                10.8                 3   \n",
       "2622                117                11.6                 2   \n",
       "\n",
       "      customer service calls  rfc_pred  \n",
       "3023                       4         1  \n",
       "1837                       1         1  \n",
       "1974                       5         1  \n",
       "3205                       1         1  \n",
       "2622                       4         1  "
      ]
     },
     "execution_count": 110,
     "metadata": {},
     "output_type": "execute_result"
    }
   ],
   "source": [
    "churn_customer_rcf.head()"
   ]
  },
  {
   "cell_type": "code",
   "execution_count": 111,
   "metadata": {},
   "outputs": [
    {
     "data": {
      "text/plain": [
       "(58, 16)"
      ]
     },
     "execution_count": 111,
     "metadata": {},
     "output_type": "execute_result"
    }
   ],
   "source": [
    "churn_customer_rcf.shape"
   ]
  },
  {
   "cell_type": "code",
   "execution_count": null,
   "metadata": {},
   "outputs": [],
   "source": []
  }
 ],
 "metadata": {
  "kernelspec": {
   "display_name": "Python 3",
   "language": "python",
   "name": "python3"
  },
  "language_info": {
   "codemirror_mode": {
    "name": "ipython",
    "version": 3
   },
   "file_extension": ".py",
   "mimetype": "text/x-python",
   "name": "python",
   "nbconvert_exporter": "python",
   "pygments_lexer": "ipython3",
   "version": "3.7.4"
  }
 },
 "nbformat": 4,
 "nbformat_minor": 2
}
